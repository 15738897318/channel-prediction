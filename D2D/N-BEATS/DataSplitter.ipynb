{
  "nbformat": 4,
  "nbformat_minor": 0,
  "metadata": {
    "colab": {
      "name": "DataSplitter.ipynb",
      "provenance": []
    },
    "kernelspec": {
      "name": "python3",
      "display_name": "Python 3"
    },
    "language_info": {
      "name": "python"
    },
    "accelerator": "GPU",
    "gpuClass": "standard"
  },
  "cells": [
    {
      "cell_type": "code",
      "execution_count": 1,
      "metadata": {
        "id": "LWG2rhPCpI-a"
      },
      "outputs": [],
      "source": [
        "%load_ext autoreload\n",
        "%autoreload 2"
      ]
    },
    {
      "cell_type": "code",
      "source": [
        "import os\n",
        "import sys\n",
        "\n",
        "from google.colab import drive\n",
        "drive.mount('/content/drive')\n",
        "PROJECT_ROOT = '/content/drive/My Drive/d2d_channelprediction'\n",
        "%mkdir '/content/drive/My Drive/d2d_channelprediction' -p\n",
        "%cd '/content/drive/My Drive/d2d_channelprediction'\n",
        "DATASETS_PATH = \"data\"\n",
        "WORKING_PATH = \".\"\n",
        "%mkdir $DATASETS_PATH -p\n",
        "\n",
        "LOGDIR = f\"{WORKING_PATH}/logs\"\n",
        "MODEL_VERSION = 'TEST'"
      ],
      "metadata": {
        "colab": {
          "base_uri": "https://localhost:8080/"
        },
        "id": "17WKsbqHpPN1",
        "outputId": "7cf9d8a2-0cb1-47ef-feaf-7778fa61116d"
      },
      "execution_count": 8,
      "outputs": [
        {
          "output_type": "stream",
          "name": "stdout",
          "text": [
            "Drive already mounted at /content/drive; to attempt to forcibly remount, call drive.mount(\"/content/drive\", force_remount=True).\n",
            "/content/drive/My Drive/d2d_channelprediction\n"
          ]
        }
      ]
    },
    {
      "cell_type": "code",
      "source": [
        "import numpy as np\n",
        "import pandas as pd\n",
        "import tensorflow as tf\n",
        "from typing import Dict, NamedTuple, Union\n",
        "from tqdm.notebook import tqdm\n",
        "import logging\n",
        "from matplotlib import pyplot as plt\n",
        "import time\n",
        "from itertools import product\n",
        "import gc\n",
        "import pathlib\n",
        "from glob import glob\n",
        "\n",
        "from dateutil.relativedelta import relativedelta\n"
      ],
      "metadata": {
        "id": "9uEGTaMIptWh"
      },
      "execution_count": 6,
      "outputs": []
    },
    {
      "cell_type": "code",
      "source": [
        "HORIZON = 12\n",
        "\n",
        "los_indoor = pd.read_csv('/content/fast_fading_dB_LOS_Head_Indoor_downsampled100hz_n50.txt', header=None, delimiter=r\"\\s+\").dropna().T\n",
        "los_outdoor = pd.read_csv('/content/fast_fading_dB_LOS_Head_Outdoor_downsampled100hz_n50.txt', header=None, delimiter=r\"\\s+\").dropna().T\n",
        "nlos_indoor = pd.read_csv('/content/fast_fading_dB_NLOS_Head_Indoor_downsampled100hz_n50.txt', header=None, delimiter=r\"\\s+\").dropna().T\n",
        "nlos_outdoor = pd.read_csv('/content/fast_fading_dB_NLOS_Head_Outdoor_downsampled100hz_n50.txt', header=None, delimiter=r\"\\s+\").dropna().T\n",
        "\n",
        "train_los_indoor = los_indoor[0:int(len(los_indoor - HORIZON))]\n",
        "test_los_indoor = los_indoor[-int(HORIZON):].reset_index(drop=True)\n",
        "\n",
        "train_los_outdoor = los_outdoor[0:int(len(los_indoor - HORIZON))]\n",
        "test_los_outdoor = los_outdoor[-int(HORIZON):].reset_index(drop=True)\n",
        "\n",
        "train_nlos_indoor = nlos_indoor[0:int(len(los_indoor - HORIZON))]\n",
        "test_nlos_indoor = nlos_indoor[-int(HORIZON):].reset_index(drop=True)\n",
        "\n",
        "train_nlos_outdoor = nlos_outdoor[0:int(len(los_indoor - HORIZON))]\n",
        "test_nlos_outdoor = nlos_outdoor[-int(HORIZON):].reset_index(drop=True)\n",
        "\n",
        "train_dataset = pd.concat([train_los_indoor, train_los_outdoor, train_nlos_indoor, train_nlos_outdoor], axis=1).T.reset_index(drop=True)\n",
        "test_dataset = pd.concat([test_los_indoor, test_los_outdoor, test_nlos_indoor, test_nlos_outdoor], axis = 1).T.reset_index(drop=True)\n",
        "\n",
        "train_dataset.to_csv('train_d2d.csv', encoding='utf-8')\n",
        "test_dataset.to_csv('test_d2d.csv', encoding='utf-8')"
      ],
      "metadata": {
        "id": "hO_0WjsWy0Xx"
      },
      "execution_count": 101,
      "outputs": []
    },
    {
      "cell_type": "code",
      "source": [
        "nlos_outdoor.tail(5)"
      ],
      "metadata": {
        "colab": {
          "base_uri": "https://localhost:8080/",
          "height": 206
        },
        "id": "F30F_DyR81OS",
        "outputId": "fc20d4c5-f4e4-4453-8a22-a89231b93be0"
      },
      "execution_count": 27,
      "outputs": [
        {
          "output_type": "execute_result",
          "data": {
            "text/plain": [
              "              0\n",
              "22661 -0.162280\n",
              "22662 -0.031755\n",
              "22663  0.224110\n",
              "22664 -0.034748\n",
              "22665  0.000000"
            ],
            "text/html": [
              "\n",
              "  <div id=\"df-fc99c74c-461e-4564-8d59-c57958c6c272\">\n",
              "    <div class=\"colab-df-container\">\n",
              "      <div>\n",
              "<style scoped>\n",
              "    .dataframe tbody tr th:only-of-type {\n",
              "        vertical-align: middle;\n",
              "    }\n",
              "\n",
              "    .dataframe tbody tr th {\n",
              "        vertical-align: top;\n",
              "    }\n",
              "\n",
              "    .dataframe thead th {\n",
              "        text-align: right;\n",
              "    }\n",
              "</style>\n",
              "<table border=\"1\" class=\"dataframe\">\n",
              "  <thead>\n",
              "    <tr style=\"text-align: right;\">\n",
              "      <th></th>\n",
              "      <th>0</th>\n",
              "    </tr>\n",
              "  </thead>\n",
              "  <tbody>\n",
              "    <tr>\n",
              "      <th>22661</th>\n",
              "      <td>-0.162280</td>\n",
              "    </tr>\n",
              "    <tr>\n",
              "      <th>22662</th>\n",
              "      <td>-0.031755</td>\n",
              "    </tr>\n",
              "    <tr>\n",
              "      <th>22663</th>\n",
              "      <td>0.224110</td>\n",
              "    </tr>\n",
              "    <tr>\n",
              "      <th>22664</th>\n",
              "      <td>-0.034748</td>\n",
              "    </tr>\n",
              "    <tr>\n",
              "      <th>22665</th>\n",
              "      <td>0.000000</td>\n",
              "    </tr>\n",
              "  </tbody>\n",
              "</table>\n",
              "</div>\n",
              "      <button class=\"colab-df-convert\" onclick=\"convertToInteractive('df-fc99c74c-461e-4564-8d59-c57958c6c272')\"\n",
              "              title=\"Convert this dataframe to an interactive table.\"\n",
              "              style=\"display:none;\">\n",
              "        \n",
              "  <svg xmlns=\"http://www.w3.org/2000/svg\" height=\"24px\"viewBox=\"0 0 24 24\"\n",
              "       width=\"24px\">\n",
              "    <path d=\"M0 0h24v24H0V0z\" fill=\"none\"/>\n",
              "    <path d=\"M18.56 5.44l.94 2.06.94-2.06 2.06-.94-2.06-.94-.94-2.06-.94 2.06-2.06.94zm-11 1L8.5 8.5l.94-2.06 2.06-.94-2.06-.94L8.5 2.5l-.94 2.06-2.06.94zm10 10l.94 2.06.94-2.06 2.06-.94-2.06-.94-.94-2.06-.94 2.06-2.06.94z\"/><path d=\"M17.41 7.96l-1.37-1.37c-.4-.4-.92-.59-1.43-.59-.52 0-1.04.2-1.43.59L10.3 9.45l-7.72 7.72c-.78.78-.78 2.05 0 2.83L4 21.41c.39.39.9.59 1.41.59.51 0 1.02-.2 1.41-.59l7.78-7.78 2.81-2.81c.8-.78.8-2.07 0-2.86zM5.41 20L4 18.59l7.72-7.72 1.47 1.35L5.41 20z\"/>\n",
              "  </svg>\n",
              "      </button>\n",
              "      \n",
              "  <style>\n",
              "    .colab-df-container {\n",
              "      display:flex;\n",
              "      flex-wrap:wrap;\n",
              "      gap: 12px;\n",
              "    }\n",
              "\n",
              "    .colab-df-convert {\n",
              "      background-color: #E8F0FE;\n",
              "      border: none;\n",
              "      border-radius: 50%;\n",
              "      cursor: pointer;\n",
              "      display: none;\n",
              "      fill: #1967D2;\n",
              "      height: 32px;\n",
              "      padding: 0 0 0 0;\n",
              "      width: 32px;\n",
              "    }\n",
              "\n",
              "    .colab-df-convert:hover {\n",
              "      background-color: #E2EBFA;\n",
              "      box-shadow: 0px 1px 2px rgba(60, 64, 67, 0.3), 0px 1px 3px 1px rgba(60, 64, 67, 0.15);\n",
              "      fill: #174EA6;\n",
              "    }\n",
              "\n",
              "    [theme=dark] .colab-df-convert {\n",
              "      background-color: #3B4455;\n",
              "      fill: #D2E3FC;\n",
              "    }\n",
              "\n",
              "    [theme=dark] .colab-df-convert:hover {\n",
              "      background-color: #434B5C;\n",
              "      box-shadow: 0px 1px 3px 1px rgba(0, 0, 0, 0.15);\n",
              "      filter: drop-shadow(0px 1px 2px rgba(0, 0, 0, 0.3));\n",
              "      fill: #FFFFFF;\n",
              "    }\n",
              "  </style>\n",
              "\n",
              "      <script>\n",
              "        const buttonEl =\n",
              "          document.querySelector('#df-fc99c74c-461e-4564-8d59-c57958c6c272 button.colab-df-convert');\n",
              "        buttonEl.style.display =\n",
              "          google.colab.kernel.accessAllowed ? 'block' : 'none';\n",
              "\n",
              "        async function convertToInteractive(key) {\n",
              "          const element = document.querySelector('#df-fc99c74c-461e-4564-8d59-c57958c6c272');\n",
              "          const dataTable =\n",
              "            await google.colab.kernel.invokeFunction('convertToInteractive',\n",
              "                                                     [key], {});\n",
              "          if (!dataTable) return;\n",
              "\n",
              "          const docLinkHtml = 'Like what you see? Visit the ' +\n",
              "            '<a target=\"_blank\" href=https://colab.research.google.com/notebooks/data_table.ipynb>data table notebook</a>'\n",
              "            + ' to learn more about interactive tables.';\n",
              "          element.innerHTML = '';\n",
              "          dataTable['output_type'] = 'display_data';\n",
              "          await google.colab.output.renderOutput(dataTable, element);\n",
              "          const docLink = document.createElement('div');\n",
              "          docLink.innerHTML = docLinkHtml;\n",
              "          element.appendChild(docLink);\n",
              "        }\n",
              "      </script>\n",
              "    </div>\n",
              "  </div>\n",
              "  "
            ]
          },
          "metadata": {},
          "execution_count": 27
        }
      ]
    },
    {
      "cell_type": "code",
      "source": [
        "los_outdoor[-500:].plot()"
      ],
      "metadata": {
        "colab": {
          "base_uri": "https://localhost:8080/",
          "height": 283
        },
        "id": "q1NjehS7y_ZE",
        "outputId": "9c0e6328-56e1-4a5f-8f85-a88741044f98"
      },
      "execution_count": 96,
      "outputs": [
        {
          "output_type": "execute_result",
          "data": {
            "text/plain": [
              "<matplotlib.axes._subplots.AxesSubplot at 0x7f1ab7ba71d0>"
            ]
          },
          "metadata": {},
          "execution_count": 96
        },
        {
          "output_type": "display_data",
          "data": {
            "text/plain": [
              "<Figure size 432x288 with 1 Axes>"
            ],
            "image/png": "[encoded data removed]"
          },
          "metadata": {
            "needs_background": "light"
          }
        }
      ]
    },
    {
      "cell_type": "code",
      "source": [
        "class DataLoader:\n",
        "  def __init__(self, path=\"data/\", split='train'):\n",
        "    self.path = path\n",
        "    self.split = split\n",
        "    ts_raw = pd.read_csv(os.path.join(path,f'Electricity-{split}.csv')).iloc[:,1:].values.astype(np.float32)\n",
        "    self.ts_raw = []\n",
        "    \n",
        "    for ts in ts_raw:\n",
        "      self.ts_raw.append(ts[~np.isnan(ts)])\n"
      ],
      "metadata": {
        "id": "Ov4MYJfWp9BB"
      },
      "execution_count": null,
      "outputs": []
    }
  ]
}