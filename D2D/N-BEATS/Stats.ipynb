{
  "nbformat": 4,
  "nbformat_minor": 0,
  "metadata": {
    "colab": {
      "name": "Stats.ipynb",
      "provenance": [],
      "collapsed_sections": []
    },
    "kernelspec": {
      "name": "python3",
      "display_name": "Python 3"
    },
    "language_info": {
      "name": "python"
    },
    "gpuClass": "standard",
    "accelerator": "GPU",
    "widgets": {
      "application/vnd.jupyter.widget-state+json": {
        "71520bbcea0346ca87739ec988232655": {
          "model_module": "@jupyter-widgets/controls",
          "model_name": "HBoxModel",
          "model_module_version": "1.5.0",
          "state": {
            "_dom_classes": [],
            "_model_module": "@jupyter-widgets/controls",
            "_model_module_version": "1.5.0",
            "_model_name": "HBoxModel",
            "_view_count": null,
            "_view_module": "@jupyter-widgets/controls",
            "_view_module_version": "1.5.0",
            "_view_name": "HBoxView",
            "box_style": "",
            "children": [
              "IPY_MODEL_cda32163f1f642a1b4971eb62d044971",
              "IPY_MODEL_46c704c50c284031973c8d31cc8a9c44",
              "IPY_MODEL_33a449b686f043c5a45571a322d3c860"
            ],
            "layout": "IPY_MODEL_ffa2a559aae94c1a8f3f325b3b071aa5"
          }
        },
        "cda32163f1f642a1b4971eb62d044971": {
          "model_module": "@jupyter-widgets/controls",
          "model_name": "HTMLModel",
          "model_module_version": "1.5.0",
          "state": {
            "_dom_classes": [],
            "_model_module": "@jupyter-widgets/controls",
            "_model_module_version": "1.5.0",
            "_model_name": "HTMLModel",
            "_view_count": null,
            "_view_module": "@jupyter-widgets/controls",
            "_view_module_version": "1.5.0",
            "_view_name": "HTMLView",
            "description": "",
            "description_tooltip": null,
            "layout": "IPY_MODEL_0fade357c99e46188ee626fd173463b6",
            "placeholder": "​",
            "style": "IPY_MODEL_c4df4213828142938ba371fe72f99697",
            "value": "Epoch 99: 100%"
          }
        },
        "46c704c50c284031973c8d31cc8a9c44": {
          "model_module": "@jupyter-widgets/controls",
          "model_name": "FloatProgressModel",
          "model_module_version": "1.5.0",
          "state": {
            "_dom_classes": [],
            "_model_module": "@jupyter-widgets/controls",
            "_model_module_version": "1.5.0",
            "_model_name": "FloatProgressModel",
            "_view_count": null,
            "_view_module": "@jupyter-widgets/controls",
            "_view_module_version": "1.5.0",
            "_view_name": "ProgressView",
            "bar_style": "success",
            "description": "",
            "description_tooltip": null,
            "layout": "IPY_MODEL_498d344a6e3344188bfa88b113baefe7",
            "max": 524,
            "min": 0,
            "orientation": "horizontal",
            "style": "IPY_MODEL_49d9e36ac94d4183b5be0c8456c4d845",
            "value": 524
          }
        },
        "33a449b686f043c5a45571a322d3c860": {
          "model_module": "@jupyter-widgets/controls",
          "model_name": "HTMLModel",
          "model_module_version": "1.5.0",
          "state": {
            "_dom_classes": [],
            "_model_module": "@jupyter-widgets/controls",
            "_model_module_version": "1.5.0",
            "_model_name": "HTMLModel",
            "_view_count": null,
            "_view_module": "@jupyter-widgets/controls",
            "_view_module_version": "1.5.0",
            "_view_name": "HTMLView",
            "description": "",
            "description_tooltip": null,
            "layout": "IPY_MODEL_c4b5eadf39a9408c8af06e90d2ed345a",
            "placeholder": "​",
            "style": "IPY_MODEL_3d327f2656264091b8691fce3e226df9",
            "value": " 524/524 [00:06&lt;00:00, 75.92it/s, loss=0.06, train_loss=0.0563]"
          }
        },
        "ffa2a559aae94c1a8f3f325b3b071aa5": {
          "model_module": "@jupyter-widgets/base",
          "model_name": "LayoutModel",
          "model_module_version": "1.2.0",
          "state": {
            "_model_module": "@jupyter-widgets/base",
            "_model_module_version": "1.2.0",
            "_model_name": "LayoutModel",
            "_view_count": null,
            "_view_module": "@jupyter-widgets/base",
            "_view_module_version": "1.2.0",
            "_view_name": "LayoutView",
            "align_content": null,
            "align_items": null,
            "align_self": null,
            "border": null,
            "bottom": null,
            "display": "inline-flex",
            "flex": null,
            "flex_flow": "row wrap",
            "grid_area": null,
            "grid_auto_columns": null,
            "grid_auto_flow": null,
            "grid_auto_rows": null,
            "grid_column": null,
            "grid_gap": null,
            "grid_row": null,
            "grid_template_areas": null,
            "grid_template_columns": null,
            "grid_template_rows": null,
            "height": null,
            "justify_content": null,
            "justify_items": null,
            "left": null,
            "margin": null,
            "max_height": null,
            "max_width": null,
            "min_height": null,
            "min_width": null,
            "object_fit": null,
            "object_position": null,
            "order": null,
            "overflow": null,
            "overflow_x": null,
            "overflow_y": null,
            "padding": null,
            "right": null,
            "top": null,
            "visibility": null,
            "width": "100%"
          }
        },
        "0fade357c99e46188ee626fd173463b6": {
          "model_module": "@jupyter-widgets/base",
          "model_name": "LayoutModel",
          "model_module_version": "1.2.0",
          "state": {
            "_model_module": "@jupyter-widgets/base",
            "_model_module_version": "1.2.0",
            "_model_name": "LayoutModel",
            "_view_count": null,
            "_view_module": "@jupyter-widgets/base",
            "_view_module_version": "1.2.0",
            "_view_name": "LayoutView",
            "align_content": null,
            "align_items": null,
            "align_self": null,
            "border": null,
            "bottom": null,
            "display": null,
            "flex": null,
            "flex_flow": null,
            "grid_area": null,
            "grid_auto_columns": null,
            "grid_auto_flow": null,
            "grid_auto_rows": null,
            "grid_column": null,
            "grid_gap": null,
            "grid_row": null,
            "grid_template_areas": null,
            "grid_template_columns": null,
            "grid_template_rows": null,
            "height": null,
            "justify_content": null,
            "justify_items": null,
            "left": null,
            "margin": null,
            "max_height": null,
            "max_width": null,
            "min_height": null,
            "min_width": null,
            "object_fit": null,
            "object_position": null,
            "order": null,
            "overflow": null,
            "overflow_x": null,
            "overflow_y": null,
            "padding": null,
            "right": null,
            "top": null,
            "visibility": null,
            "width": null
          }
        },
        "c4df4213828142938ba371fe72f99697": {
          "model_module": "@jupyter-widgets/controls",
          "model_name": "DescriptionStyleModel",
          "model_module_version": "1.5.0",
          "state": {
            "_model_module": "@jupyter-widgets/controls",
            "_model_module_version": "1.5.0",
            "_model_name": "DescriptionStyleModel",
            "_view_count": null,
            "_view_module": "@jupyter-widgets/base",
            "_view_module_version": "1.2.0",
            "_view_name": "StyleView",
            "description_width": ""
          }
        },
        "498d344a6e3344188bfa88b113baefe7": {
          "model_module": "@jupyter-widgets/base",
          "model_name": "LayoutModel",
          "model_module_version": "1.2.0",
          "state": {
            "_model_module": "@jupyter-widgets/base",
            "_model_module_version": "1.2.0",
            "_model_name": "LayoutModel",
            "_view_count": null,
            "_view_module": "@jupyter-widgets/base",
            "_view_module_version": "1.2.0",
            "_view_name": "LayoutView",
            "align_content": null,
            "align_items": null,
            "align_self": null,
            "border": null,
            "bottom": null,
            "display": null,
            "flex": "2",
            "flex_flow": null,
            "grid_area": null,
            "grid_auto_columns": null,
            "grid_auto_flow": null,
            "grid_auto_rows": null,
            "grid_column": null,
            "grid_gap": null,
            "grid_row": null,
            "grid_template_areas": null,
            "grid_template_columns": null,
            "grid_template_rows": null,
            "height": null,
            "justify_content": null,
            "justify_items": null,
            "left": null,
            "margin": null,
            "max_height": null,
            "max_width": null,
            "min_height": null,
            "min_width": null,
            "object_fit": null,
            "object_position": null,
            "order": null,
            "overflow": null,
            "overflow_x": null,
            "overflow_y": null,
            "padding": null,
            "right": null,
            "top": null,
            "visibility": null,
            "width": null
          }
        },
        "49d9e36ac94d4183b5be0c8456c4d845": {
          "model_module": "@jupyter-widgets/controls",
          "model_name": "ProgressStyleModel",
          "model_module_version": "1.5.0",
          "state": {
            "_model_module": "@jupyter-widgets/controls",
            "_model_module_version": "1.5.0",
            "_model_name": "ProgressStyleModel",
            "_view_count": null,
            "_view_module": "@jupyter-widgets/base",
            "_view_module_version": "1.2.0",
            "_view_name": "StyleView",
            "bar_color": null,
            "description_width": ""
          }
        },
        "c4b5eadf39a9408c8af06e90d2ed345a": {
          "model_module": "@jupyter-widgets/base",
          "model_name": "LayoutModel",
          "model_module_version": "1.2.0",
          "state": {
            "_model_module": "@jupyter-widgets/base",
            "_model_module_version": "1.2.0",
            "_model_name": "LayoutModel",
            "_view_count": null,
            "_view_module": "@jupyter-widgets/base",
            "_view_module_version": "1.2.0",
            "_view_name": "LayoutView",
            "align_content": null,
            "align_items": null,
            "align_self": null,
            "border": null,
            "bottom": null,
            "display": null,
            "flex": null,
            "flex_flow": null,
            "grid_area": null,
            "grid_auto_columns": null,
            "grid_auto_flow": null,
            "grid_auto_rows": null,
            "grid_column": null,
            "grid_gap": null,
            "grid_row": null,
            "grid_template_areas": null,
            "grid_template_columns": null,
            "grid_template_rows": null,
            "height": null,
            "justify_content": null,
            "justify_items": null,
            "left": null,
            "margin": null,
            "max_height": null,
            "max_width": null,
            "min_height": null,
            "min_width": null,
            "object_fit": null,
            "object_position": null,
            "order": null,
            "overflow": null,
            "overflow_x": null,
            "overflow_y": null,
            "padding": null,
            "right": null,
            "top": null,
            "visibility": null,
            "width": null
          }
        },
        "3d327f2656264091b8691fce3e226df9": {
          "model_module": "@jupyter-widgets/controls",
          "model_name": "DescriptionStyleModel",
          "model_module_version": "1.5.0",
          "state": {
            "_model_module": "@jupyter-widgets/controls",
            "_model_module_version": "1.5.0",
            "_model_name": "DescriptionStyleModel",
            "_view_count": null,
            "_view_module": "@jupyter-widgets/base",
            "_view_module_version": "1.2.0",
            "_view_name": "StyleView",
            "description_width": ""
          }
        },
        "6a082f3d8dce4aa885de85b28ec0ac39": {
          "model_module": "@jupyter-widgets/controls",
          "model_name": "HBoxModel",
          "model_module_version": "1.5.0",
          "state": {
            "_dom_classes": [],
            "_model_module": "@jupyter-widgets/controls",
            "_model_module_version": "1.5.0",
            "_model_name": "HBoxModel",
            "_view_count": null,
            "_view_module": "@jupyter-widgets/controls",
            "_view_module_version": "1.5.0",
            "_view_name": "HBoxView",
            "box_style": "",
            "children": [
              "IPY_MODEL_0cfcddf25a594d038e72ea4b5ded3a5f",
              "IPY_MODEL_48f68379e52f457b85e3b73ceb636bc5",
              "IPY_MODEL_f6b41b5fa804457aa41914c1eb4ca096"
            ],
            "layout": "IPY_MODEL_2c7732cbce6b4d5e8bd907b34ab910b7"
          }
        },
        "0cfcddf25a594d038e72ea4b5ded3a5f": {
          "model_module": "@jupyter-widgets/controls",
          "model_name": "HTMLModel",
          "model_module_version": "1.5.0",
          "state": {
            "_dom_classes": [],
            "_model_module": "@jupyter-widgets/controls",
            "_model_module_version": "1.5.0",
            "_model_name": "HTMLModel",
            "_view_count": null,
            "_view_module": "@jupyter-widgets/controls",
            "_view_module_version": "1.5.0",
            "_view_name": "HTMLView",
            "description": "",
            "description_tooltip": null,
            "layout": "IPY_MODEL_d798e3d4510a4564b6a41f9cb39e5315",
            "placeholder": "​",
            "style": "IPY_MODEL_f6268b3bb33344edb5df73cc04b68e8b",
            "value": "Predicting DataLoader 0: 100%"
          }
        },
        "48f68379e52f457b85e3b73ceb636bc5": {
          "model_module": "@jupyter-widgets/controls",
          "model_name": "FloatProgressModel",
          "model_module_version": "1.5.0",
          "state": {
            "_dom_classes": [],
            "_model_module": "@jupyter-widgets/controls",
            "_model_module_version": "1.5.0",
            "_model_name": "FloatProgressModel",
            "_view_count": null,
            "_view_module": "@jupyter-widgets/controls",
            "_view_module_version": "1.5.0",
            "_view_name": "ProgressView",
            "bar_style": "success",
            "description": "",
            "description_tooltip": null,
            "layout": "IPY_MODEL_95d70bdf16a84369b3b482c2a04f28d9",
            "max": 1,
            "min": 0,
            "orientation": "horizontal",
            "style": "IPY_MODEL_447f4b200cad4695bd4568d56ce96aea",
            "value": 1
          }
        },
        "f6b41b5fa804457aa41914c1eb4ca096": {
          "model_module": "@jupyter-widgets/controls",
          "model_name": "HTMLModel",
          "model_module_version": "1.5.0",
          "state": {
            "_dom_classes": [],
            "_model_module": "@jupyter-widgets/controls",
            "_model_module_version": "1.5.0",
            "_model_name": "HTMLModel",
            "_view_count": null,
            "_view_module": "@jupyter-widgets/controls",
            "_view_module_version": "1.5.0",
            "_view_name": "HTMLView",
            "description": "",
            "description_tooltip": null,
            "layout": "IPY_MODEL_8ad1ba59d5ce41918bbe56d2b70256a9",
            "placeholder": "​",
            "style": "IPY_MODEL_7f5b2df98f1645ad9f2d374b991675f8",
            "value": " 1/1 [00:00&lt;00:00, -39750.31it/s]"
          }
        },
        "2c7732cbce6b4d5e8bd907b34ab910b7": {
          "model_module": "@jupyter-widgets/base",
          "model_name": "LayoutModel",
          "model_module_version": "1.2.0",
          "state": {
            "_model_module": "@jupyter-widgets/base",
            "_model_module_version": "1.2.0",
            "_model_name": "LayoutModel",
            "_view_count": null,
            "_view_module": "@jupyter-widgets/base",
            "_view_module_version": "1.2.0",
            "_view_name": "LayoutView",
            "align_content": null,
            "align_items": null,
            "align_self": null,
            "border": null,
            "bottom": null,
            "display": "inline-flex",
            "flex": null,
            "flex_flow": "row wrap",
            "grid_area": null,
            "grid_auto_columns": null,
            "grid_auto_flow": null,
            "grid_auto_rows": null,
            "grid_column": null,
            "grid_gap": null,
            "grid_row": null,
            "grid_template_areas": null,
            "grid_template_columns": null,
            "grid_template_rows": null,
            "height": null,
            "justify_content": null,
            "justify_items": null,
            "left": null,
            "margin": null,
            "max_height": null,
            "max_width": null,
            "min_height": null,
            "min_width": null,
            "object_fit": null,
            "object_position": null,
            "order": null,
            "overflow": null,
            "overflow_x": null,
            "overflow_y": null,
            "padding": null,
            "right": null,
            "top": null,
            "visibility": null,
            "width": "100%"
          }
        },
        "d798e3d4510a4564b6a41f9cb39e5315": {
          "model_module": "@jupyter-widgets/base",
          "model_name": "LayoutModel",
          "model_module_version": "1.2.0",
          "state": {
            "_model_module": "@jupyter-widgets/base",
            "_model_module_version": "1.2.0",
            "_model_name": "LayoutModel",
            "_view_count": null,
            "_view_module": "@jupyter-widgets/base",
            "_view_module_version": "1.2.0",
            "_view_name": "LayoutView",
            "align_content": null,
            "align_items": null,
            "align_self": null,
            "border": null,
            "bottom": null,
            "display": null,
            "flex": null,
            "flex_flow": null,
            "grid_area": null,
            "grid_auto_columns": null,
            "grid_auto_flow": null,
            "grid_auto_rows": null,
            "grid_column": null,
            "grid_gap": null,
            "grid_row": null,
            "grid_template_areas": null,
            "grid_template_columns": null,
            "grid_template_rows": null,
            "height": null,
            "justify_content": null,
            "justify_items": null,
            "left": null,
            "margin": null,
            "max_height": null,
            "max_width": null,
            "min_height": null,
            "min_width": null,
            "object_fit": null,
            "object_position": null,
            "order": null,
            "overflow": null,
            "overflow_x": null,
            "overflow_y": null,
            "padding": null,
            "right": null,
            "top": null,
            "visibility": null,
            "width": null
          }
        },
        "f6268b3bb33344edb5df73cc04b68e8b": {
          "model_module": "@jupyter-widgets/controls",
          "model_name": "DescriptionStyleModel",
          "model_module_version": "1.5.0",
          "state": {
            "_model_module": "@jupyter-widgets/controls",
            "_model_module_version": "1.5.0",
            "_model_name": "DescriptionStyleModel",
            "_view_count": null,
            "_view_module": "@jupyter-widgets/base",
            "_view_module_version": "1.2.0",
            "_view_name": "StyleView",
            "description_width": ""
          }
        },
        "95d70bdf16a84369b3b482c2a04f28d9": {
          "model_module": "@jupyter-widgets/base",
          "model_name": "LayoutModel",
          "model_module_version": "1.2.0",
          "state": {
            "_model_module": "@jupyter-widgets/base",
            "_model_module_version": "1.2.0",
            "_model_name": "LayoutModel",
            "_view_count": null,
            "_view_module": "@jupyter-widgets/base",
            "_view_module_version": "1.2.0",
            "_view_name": "LayoutView",
            "align_content": null,
            "align_items": null,
            "align_self": null,
            "border": null,
            "bottom": null,
            "display": null,
            "flex": "2",
            "flex_flow": null,
            "grid_area": null,
            "grid_auto_columns": null,
            "grid_auto_flow": null,
            "grid_auto_rows": null,
            "grid_column": null,
            "grid_gap": null,
            "grid_row": null,
            "grid_template_areas": null,
            "grid_template_columns": null,
            "grid_template_rows": null,
            "height": null,
            "justify_content": null,
            "justify_items": null,
            "left": null,
            "margin": null,
            "max_height": null,
            "max_width": null,
            "min_height": null,
            "min_width": null,
            "object_fit": null,
            "object_position": null,
            "order": null,
            "overflow": null,
            "overflow_x": null,
            "overflow_y": null,
            "padding": null,
            "right": null,
            "top": null,
            "visibility": null,
            "width": null
          }
        },
        "447f4b200cad4695bd4568d56ce96aea": {
          "model_module": "@jupyter-widgets/controls",
          "model_name": "ProgressStyleModel",
          "model_module_version": "1.5.0",
          "state": {
            "_model_module": "@jupyter-widgets/controls",
            "_model_module_version": "1.5.0",
            "_model_name": "ProgressStyleModel",
            "_view_count": null,
            "_view_module": "@jupyter-widgets/base",
            "_view_module_version": "1.2.0",
            "_view_name": "StyleView",
            "bar_color": null,
            "description_width": ""
          }
        },
        "8ad1ba59d5ce41918bbe56d2b70256a9": {
          "model_module": "@jupyter-widgets/base",
          "model_name": "LayoutModel",
          "model_module_version": "1.2.0",
          "state": {
            "_model_module": "@jupyter-widgets/base",
            "_model_module_version": "1.2.0",
            "_model_name": "LayoutModel",
            "_view_count": null,
            "_view_module": "@jupyter-widgets/base",
            "_view_module_version": "1.2.0",
            "_view_name": "LayoutView",
            "align_content": null,
            "align_items": null,
            "align_self": null,
            "border": null,
            "bottom": null,
            "display": null,
            "flex": null,
            "flex_flow": null,
            "grid_area": null,
            "grid_auto_columns": null,
            "grid_auto_flow": null,
            "grid_auto_rows": null,
            "grid_column": null,
            "grid_gap": null,
            "grid_row": null,
            "grid_template_areas": null,
            "grid_template_columns": null,
            "grid_template_rows": null,
            "height": null,
            "justify_content": null,
            "justify_items": null,
            "left": null,
            "margin": null,
            "max_height": null,
            "max_width": null,
            "min_height": null,
            "min_width": null,
            "object_fit": null,
            "object_position": null,
            "order": null,
            "overflow": null,
            "overflow_x": null,
            "overflow_y": null,
            "padding": null,
            "right": null,
            "top": null,
            "visibility": null,
            "width": null
          }
        },
        "7f5b2df98f1645ad9f2d374b991675f8": {
          "model_module": "@jupyter-widgets/controls",
          "model_name": "DescriptionStyleModel",
          "model_module_version": "1.5.0",
          "state": {
            "_model_module": "@jupyter-widgets/controls",
            "_model_module_version": "1.5.0",
            "_model_name": "DescriptionStyleModel",
            "_view_count": null,
            "_view_module": "@jupyter-widgets/base",
            "_view_module_version": "1.2.0",
            "_view_name": "StyleView",
            "description_width": ""
          }
        },
        "043550a9a84c4de8a42855c4ea7cdb4d": {
          "model_module": "@jupyter-widgets/controls",
          "model_name": "HBoxModel",
          "model_module_version": "1.5.0",
          "state": {
            "_dom_classes": [],
            "_model_module": "@jupyter-widgets/controls",
            "_model_module_version": "1.5.0",
            "_model_name": "HBoxModel",
            "_view_count": null,
            "_view_module": "@jupyter-widgets/controls",
            "_view_module_version": "1.5.0",
            "_view_name": "HBoxView",
            "box_style": "",
            "children": [
              "IPY_MODEL_882cbd367f9a41ebbf20432bda0171c4",
              "IPY_MODEL_5053c3a89cd14efea1a9bb6a587f789a",
              "IPY_MODEL_c4f47ddef4a041248f18fff81824e7c4"
            ],
            "layout": "IPY_MODEL_d1d3fb71d95141a5afb6439491627c27"
          }
        },
        "882cbd367f9a41ebbf20432bda0171c4": {
          "model_module": "@jupyter-widgets/controls",
          "model_name": "HTMLModel",
          "model_module_version": "1.5.0",
          "state": {
            "_dom_classes": [],
            "_model_module": "@jupyter-widgets/controls",
            "_model_module_version": "1.5.0",
            "_model_name": "HTMLModel",
            "_view_count": null,
            "_view_module": "@jupyter-widgets/controls",
            "_view_module_version": "1.5.0",
            "_view_name": "HTMLView",
            "description": "",
            "description_tooltip": null,
            "layout": "IPY_MODEL_1e687404cc354e56baac91d8e1815b6d",
            "placeholder": "​",
            "style": "IPY_MODEL_d5b54a140c2e452685137a1d309fab19",
            "value": "Epoch 5:  23%"
          }
        },
        "5053c3a89cd14efea1a9bb6a587f789a": {
          "model_module": "@jupyter-widgets/controls",
          "model_name": "FloatProgressModel",
          "model_module_version": "1.5.0",
          "state": {
            "_dom_classes": [],
            "_model_module": "@jupyter-widgets/controls",
            "_model_module_version": "1.5.0",
            "_model_name": "FloatProgressModel",
            "_view_count": null,
            "_view_module": "@jupyter-widgets/controls",
            "_view_module_version": "1.5.0",
            "_view_name": "ProgressView",
            "bar_style": "",
            "description": "",
            "description_tooltip": null,
            "layout": "IPY_MODEL_e9aa5456d91745c3acf0a82cf2e64675",
            "max": 524,
            "min": 0,
            "orientation": "horizontal",
            "style": "IPY_MODEL_26af194741f74db591c69b535626fb83",
            "value": 120
          }
        },
        "c4f47ddef4a041248f18fff81824e7c4": {
          "model_module": "@jupyter-widgets/controls",
          "model_name": "HTMLModel",
          "model_module_version": "1.5.0",
          "state": {
            "_dom_classes": [],
            "_model_module": "@jupyter-widgets/controls",
            "_model_module_version": "1.5.0",
            "_model_name": "HTMLModel",
            "_view_count": null,
            "_view_module": "@jupyter-widgets/controls",
            "_view_module_version": "1.5.0",
            "_view_name": "HTMLView",
            "description": "",
            "description_tooltip": null,
            "layout": "IPY_MODEL_236e0c3b59414bf9bf2f1f0c530d5c00",
            "placeholder": "​",
            "style": "IPY_MODEL_b39de7382a1645df93e2686412fdda32",
            "value": " 120/524 [00:23&lt;01:19,  5.09it/s, loss=1.88, train_loss=1.060]"
          }
        },
        "d1d3fb71d95141a5afb6439491627c27": {
          "model_module": "@jupyter-widgets/base",
          "model_name": "LayoutModel",
          "model_module_version": "1.2.0",
          "state": {
            "_model_module": "@jupyter-widgets/base",
            "_model_module_version": "1.2.0",
            "_model_name": "LayoutModel",
            "_view_count": null,
            "_view_module": "@jupyter-widgets/base",
            "_view_module_version": "1.2.0",
            "_view_name": "LayoutView",
            "align_content": null,
            "align_items": null,
            "align_self": null,
            "border": null,
            "bottom": null,
            "display": "inline-flex",
            "flex": null,
            "flex_flow": "row wrap",
            "grid_area": null,
            "grid_auto_columns": null,
            "grid_auto_flow": null,
            "grid_auto_rows": null,
            "grid_column": null,
            "grid_gap": null,
            "grid_row": null,
            "grid_template_areas": null,
            "grid_template_columns": null,
            "grid_template_rows": null,
            "height": null,
            "justify_content": null,
            "justify_items": null,
            "left": null,
            "margin": null,
            "max_height": null,
            "max_width": null,
            "min_height": null,
            "min_width": null,
            "object_fit": null,
            "object_position": null,
            "order": null,
            "overflow": null,
            "overflow_x": null,
            "overflow_y": null,
            "padding": null,
            "right": null,
            "top": null,
            "visibility": null,
            "width": "100%"
          }
        },
        "1e687404cc354e56baac91d8e1815b6d": {
          "model_module": "@jupyter-widgets/base",
          "model_name": "LayoutModel",
          "model_module_version": "1.2.0",
          "state": {
            "_model_module": "@jupyter-widgets/base",
            "_model_module_version": "1.2.0",
            "_model_name": "LayoutModel",
            "_view_count": null,
            "_view_module": "@jupyter-widgets/base",
            "_view_module_version": "1.2.0",
            "_view_name": "LayoutView",
            "align_content": null,
            "align_items": null,
            "align_self": null,
            "border": null,
            "bottom": null,
            "display": null,
            "flex": null,
            "flex_flow": null,
            "grid_area": null,
            "grid_auto_columns": null,
            "grid_auto_flow": null,
            "grid_auto_rows": null,
            "grid_column": null,
            "grid_gap": null,
            "grid_row": null,
            "grid_template_areas": null,
            "grid_template_columns": null,
            "grid_template_rows": null,
            "height": null,
            "justify_content": null,
            "justify_items": null,
            "left": null,
            "margin": null,
            "max_height": null,
            "max_width": null,
            "min_height": null,
            "min_width": null,
            "object_fit": null,
            "object_position": null,
            "order": null,
            "overflow": null,
            "overflow_x": null,
            "overflow_y": null,
            "padding": null,
            "right": null,
            "top": null,
            "visibility": null,
            "width": null
          }
        },
        "d5b54a140c2e452685137a1d309fab19": {
          "model_module": "@jupyter-widgets/controls",
          "model_name": "DescriptionStyleModel",
          "model_module_version": "1.5.0",
          "state": {
            "_model_module": "@jupyter-widgets/controls",
            "_model_module_version": "1.5.0",
            "_model_name": "DescriptionStyleModel",
            "_view_count": null,
            "_view_module": "@jupyter-widgets/base",
            "_view_module_version": "1.2.0",
            "_view_name": "StyleView",
            "description_width": ""
          }
        },
        "e9aa5456d91745c3acf0a82cf2e64675": {
          "model_module": "@jupyter-widgets/base",
          "model_name": "LayoutModel",
          "model_module_version": "1.2.0",
          "state": {
            "_model_module": "@jupyter-widgets/base",
            "_model_module_version": "1.2.0",
            "_model_name": "LayoutModel",
            "_view_count": null,
            "_view_module": "@jupyter-widgets/base",
            "_view_module_version": "1.2.0",
            "_view_name": "LayoutView",
            "align_content": null,
            "align_items": null,
            "align_self": null,
            "border": null,
            "bottom": null,
            "display": null,
            "flex": "2",
            "flex_flow": null,
            "grid_area": null,
            "grid_auto_columns": null,
            "grid_auto_flow": null,
            "grid_auto_rows": null,
            "grid_column": null,
            "grid_gap": null,
            "grid_row": null,
            "grid_template_areas": null,
            "grid_template_columns": null,
            "grid_template_rows": null,
            "height": null,
            "justify_content": null,
            "justify_items": null,
            "left": null,
            "margin": null,
            "max_height": null,
            "max_width": null,
            "min_height": null,
            "min_width": null,
            "object_fit": null,
            "object_position": null,
            "order": null,
            "overflow": null,
            "overflow_x": null,
            "overflow_y": null,
            "padding": null,
            "right": null,
            "top": null,
            "visibility": null,
            "width": null
          }
        },
        "26af194741f74db591c69b535626fb83": {
          "model_module": "@jupyter-widgets/controls",
          "model_name": "ProgressStyleModel",
          "model_module_version": "1.5.0",
          "state": {
            "_model_module": "@jupyter-widgets/controls",
            "_model_module_version": "1.5.0",
            "_model_name": "ProgressStyleModel",
            "_view_count": null,
            "_view_module": "@jupyter-widgets/base",
            "_view_module_version": "1.2.0",
            "_view_name": "StyleView",
            "bar_color": null,
            "description_width": ""
          }
        },
        "236e0c3b59414bf9bf2f1f0c530d5c00": {
          "model_module": "@jupyter-widgets/base",
          "model_name": "LayoutModel",
          "model_module_version": "1.2.0",
          "state": {
            "_model_module": "@jupyter-widgets/base",
            "_model_module_version": "1.2.0",
            "_model_name": "LayoutModel",
            "_view_count": null,
            "_view_module": "@jupyter-widgets/base",
            "_view_module_version": "1.2.0",
            "_view_name": "LayoutView",
            "align_content": null,
            "align_items": null,
            "align_self": null,
            "border": null,
            "bottom": null,
            "display": null,
            "flex": null,
            "flex_flow": null,
            "grid_area": null,
            "grid_auto_columns": null,
            "grid_auto_flow": null,
            "grid_auto_rows": null,
            "grid_column": null,
            "grid_gap": null,
            "grid_row": null,
            "grid_template_areas": null,
            "grid_template_columns": null,
            "grid_template_rows": null,
            "height": null,
            "justify_content": null,
            "justify_items": null,
            "left": null,
            "margin": null,
            "max_height": null,
            "max_width": null,
            "min_height": null,
            "min_width": null,
            "object_fit": null,
            "object_position": null,
            "order": null,
            "overflow": null,
            "overflow_x": null,
            "overflow_y": null,
            "padding": null,
            "right": null,
            "top": null,
            "visibility": null,
            "width": null
          }
        },
        "b39de7382a1645df93e2686412fdda32": {
          "model_module": "@jupyter-widgets/controls",
          "model_name": "DescriptionStyleModel",
          "model_module_version": "1.5.0",
          "state": {
            "_model_module": "@jupyter-widgets/controls",
            "_model_module_version": "1.5.0",
            "_model_name": "DescriptionStyleModel",
            "_view_count": null,
            "_view_module": "@jupyter-widgets/base",
            "_view_module_version": "1.2.0",
            "_view_name": "StyleView",
            "description_width": ""
          }
        },
        "beba245109d54028a6c99fb535af1510": {
          "model_module": "@jupyter-widgets/controls",
          "model_name": "HBoxModel",
          "model_module_version": "1.5.0",
          "state": {
            "_dom_classes": [],
            "_model_module": "@jupyter-widgets/controls",
            "_model_module_version": "1.5.0",
            "_model_name": "HBoxModel",
            "_view_count": null,
            "_view_module": "@jupyter-widgets/controls",
            "_view_module_version": "1.5.0",
            "_view_name": "HBoxView",
            "box_style": "",
            "children": [
              "IPY_MODEL_d7e0e29dde244e63be3a4d6fc4a5b5b2",
              "IPY_MODEL_a045ad0b1fe64afe8e15720afc3ba5d4",
              "IPY_MODEL_a60999a7244a4fefb05cbbfbd24f62e1"
            ],
            "layout": "IPY_MODEL_90a92812a52f4001996f40a47a9acbe5"
          }
        },
        "d7e0e29dde244e63be3a4d6fc4a5b5b2": {
          "model_module": "@jupyter-widgets/controls",
          "model_name": "HTMLModel",
          "model_module_version": "1.5.0",
          "state": {
            "_dom_classes": [],
            "_model_module": "@jupyter-widgets/controls",
            "_model_module_version": "1.5.0",
            "_model_name": "HTMLModel",
            "_view_count": null,
            "_view_module": "@jupyter-widgets/controls",
            "_view_module_version": "1.5.0",
            "_view_name": "HTMLView",
            "description": "",
            "description_tooltip": null,
            "layout": "IPY_MODEL_684fefe6fa2048a0ac48bfc208aab399",
            "placeholder": "​",
            "style": "IPY_MODEL_d0f67db4b5d14d47a2a13e0898281acc",
            "value": "Predicting DataLoader 0: 100%"
          }
        },
        "a045ad0b1fe64afe8e15720afc3ba5d4": {
          "model_module": "@jupyter-widgets/controls",
          "model_name": "FloatProgressModel",
          "model_module_version": "1.5.0",
          "state": {
            "_dom_classes": [],
            "_model_module": "@jupyter-widgets/controls",
            "_model_module_version": "1.5.0",
            "_model_name": "FloatProgressModel",
            "_view_count": null,
            "_view_module": "@jupyter-widgets/controls",
            "_view_module_version": "1.5.0",
            "_view_name": "ProgressView",
            "bar_style": "success",
            "description": "",
            "description_tooltip": null,
            "layout": "IPY_MODEL_324a5dc4c9ac4dbdbb0c3dac93842b03",
            "max": 1,
            "min": 0,
            "orientation": "horizontal",
            "style": "IPY_MODEL_dd4396204cc44f61afbbffd7f7383761",
            "value": 1
          }
        },
        "a60999a7244a4fefb05cbbfbd24f62e1": {
          "model_module": "@jupyter-widgets/controls",
          "model_name": "HTMLModel",
          "model_module_version": "1.5.0",
          "state": {
            "_dom_classes": [],
            "_model_module": "@jupyter-widgets/controls",
            "_model_module_version": "1.5.0",
            "_model_name": "HTMLModel",
            "_view_count": null,
            "_view_module": "@jupyter-widgets/controls",
            "_view_module_version": "1.5.0",
            "_view_name": "HTMLView",
            "description": "",
            "description_tooltip": null,
            "layout": "IPY_MODEL_ac8c5f1fb63041d78fecf94d428aed61",
            "placeholder": "​",
            "style": "IPY_MODEL_cf38690e0cf548d7a23412b89a8b3861",
            "value": " 1/1 [00:00&lt;00:00, -5597.47it/s]"
          }
        },
        "90a92812a52f4001996f40a47a9acbe5": {
          "model_module": "@jupyter-widgets/base",
          "model_name": "LayoutModel",
          "model_module_version": "1.2.0",
          "state": {
            "_model_module": "@jupyter-widgets/base",
            "_model_module_version": "1.2.0",
            "_model_name": "LayoutModel",
            "_view_count": null,
            "_view_module": "@jupyter-widgets/base",
            "_view_module_version": "1.2.0",
            "_view_name": "LayoutView",
            "align_content": null,
            "align_items": null,
            "align_self": null,
            "border": null,
            "bottom": null,
            "display": "inline-flex",
            "flex": null,
            "flex_flow": "row wrap",
            "grid_area": null,
            "grid_auto_columns": null,
            "grid_auto_flow": null,
            "grid_auto_rows": null,
            "grid_column": null,
            "grid_gap": null,
            "grid_row": null,
            "grid_template_areas": null,
            "grid_template_columns": null,
            "grid_template_rows": null,
            "height": null,
            "justify_content": null,
            "justify_items": null,
            "left": null,
            "margin": null,
            "max_height": null,
            "max_width": null,
            "min_height": null,
            "min_width": null,
            "object_fit": null,
            "object_position": null,
            "order": null,
            "overflow": null,
            "overflow_x": null,
            "overflow_y": null,
            "padding": null,
            "right": null,
            "top": null,
            "visibility": null,
            "width": "100%"
          }
        },
        "684fefe6fa2048a0ac48bfc208aab399": {
          "model_module": "@jupyter-widgets/base",
          "model_name": "LayoutModel",
          "model_module_version": "1.2.0",
          "state": {
            "_model_module": "@jupyter-widgets/base",
            "_model_module_version": "1.2.0",
            "_model_name": "LayoutModel",
            "_view_count": null,
            "_view_module": "@jupyter-widgets/base",
            "_view_module_version": "1.2.0",
            "_view_name": "LayoutView",
            "align_content": null,
            "align_items": null,
            "align_self": null,
            "border": null,
            "bottom": null,
            "display": null,
            "flex": null,
            "flex_flow": null,
            "grid_area": null,
            "grid_auto_columns": null,
            "grid_auto_flow": null,
            "grid_auto_rows": null,
            "grid_column": null,
            "grid_gap": null,
            "grid_row": null,
            "grid_template_areas": null,
            "grid_template_columns": null,
            "grid_template_rows": null,
            "height": null,
            "justify_content": null,
            "justify_items": null,
            "left": null,
            "margin": null,
            "max_height": null,
            "max_width": null,
            "min_height": null,
            "min_width": null,
            "object_fit": null,
            "object_position": null,
            "order": null,
            "overflow": null,
            "overflow_x": null,
            "overflow_y": null,
            "padding": null,
            "right": null,
            "top": null,
            "visibility": null,
            "width": null
          }
        },
        "d0f67db4b5d14d47a2a13e0898281acc": {
          "model_module": "@jupyter-widgets/controls",
          "model_name": "DescriptionStyleModel",
          "model_module_version": "1.5.0",
          "state": {
            "_model_module": "@jupyter-widgets/controls",
            "_model_module_version": "1.5.0",
            "_model_name": "DescriptionStyleModel",
            "_view_count": null,
            "_view_module": "@jupyter-widgets/base",
            "_view_module_version": "1.2.0",
            "_view_name": "StyleView",
            "description_width": ""
          }
        },
        "324a5dc4c9ac4dbdbb0c3dac93842b03": {
          "model_module": "@jupyter-widgets/base",
          "model_name": "LayoutModel",
          "model_module_version": "1.2.0",
          "state": {
            "_model_module": "@jupyter-widgets/base",
            "_model_module_version": "1.2.0",
            "_model_name": "LayoutModel",
            "_view_count": null,
            "_view_module": "@jupyter-widgets/base",
            "_view_module_version": "1.2.0",
            "_view_name": "LayoutView",
            "align_content": null,
            "align_items": null,
            "align_self": null,
            "border": null,
            "bottom": null,
            "display": null,
            "flex": "2",
            "flex_flow": null,
            "grid_area": null,
            "grid_auto_columns": null,
            "grid_auto_flow": null,
            "grid_auto_rows": null,
            "grid_column": null,
            "grid_gap": null,
            "grid_row": null,
            "grid_template_areas": null,
            "grid_template_columns": null,
            "grid_template_rows": null,
            "height": null,
            "justify_content": null,
            "justify_items": null,
            "left": null,
            "margin": null,
            "max_height": null,
            "max_width": null,
            "min_height": null,
            "min_width": null,
            "object_fit": null,
            "object_position": null,
            "order": null,
            "overflow": null,
            "overflow_x": null,
            "overflow_y": null,
            "padding": null,
            "right": null,
            "top": null,
            "visibility": null,
            "width": null
          }
        },
        "dd4396204cc44f61afbbffd7f7383761": {
          "model_module": "@jupyter-widgets/controls",
          "model_name": "ProgressStyleModel",
          "model_module_version": "1.5.0",
          "state": {
            "_model_module": "@jupyter-widgets/controls",
            "_model_module_version": "1.5.0",
            "_model_name": "ProgressStyleModel",
            "_view_count": null,
            "_view_module": "@jupyter-widgets/base",
            "_view_module_version": "1.2.0",
            "_view_name": "StyleView",
            "bar_color": null,
            "description_width": ""
          }
        },
        "ac8c5f1fb63041d78fecf94d428aed61": {
          "model_module": "@jupyter-widgets/base",
          "model_name": "LayoutModel",
          "model_module_version": "1.2.0",
          "state": {
            "_model_module": "@jupyter-widgets/base",
            "_model_module_version": "1.2.0",
            "_model_name": "LayoutModel",
            "_view_count": null,
            "_view_module": "@jupyter-widgets/base",
            "_view_module_version": "1.2.0",
            "_view_name": "LayoutView",
            "align_content": null,
            "align_items": null,
            "align_self": null,
            "border": null,
            "bottom": null,
            "display": null,
            "flex": null,
            "flex_flow": null,
            "grid_area": null,
            "grid_auto_columns": null,
            "grid_auto_flow": null,
            "grid_auto_rows": null,
            "grid_column": null,
            "grid_gap": null,
            "grid_row": null,
            "grid_template_areas": null,
            "grid_template_columns": null,
            "grid_template_rows": null,
            "height": null,
            "justify_content": null,
            "justify_items": null,
            "left": null,
            "margin": null,
            "max_height": null,
            "max_width": null,
            "min_height": null,
            "min_width": null,
            "object_fit": null,
            "object_position": null,
            "order": null,
            "overflow": null,
            "overflow_x": null,
            "overflow_y": null,
            "padding": null,
            "right": null,
            "top": null,
            "visibility": null,
            "width": null
          }
        },
        "cf38690e0cf548d7a23412b89a8b3861": {
          "model_module": "@jupyter-widgets/controls",
          "model_name": "DescriptionStyleModel",
          "model_module_version": "1.5.0",
          "state": {
            "_model_module": "@jupyter-widgets/controls",
            "_model_module_version": "1.5.0",
            "_model_name": "DescriptionStyleModel",
            "_view_count": null,
            "_view_module": "@jupyter-widgets/base",
            "_view_module_version": "1.2.0",
            "_view_name": "StyleView",
            "description_width": ""
          }
        }
      }
    }
  },
  "cells": [
    {
      "cell_type": "code",
      "execution_count": 1,
      "metadata": {
        "id": "OLlc4_uuvTOj"
      },
      "outputs": [],
      "source": [
        "%load_ext autoreload\n",
        "%autoreload 2"
      ]
    },
    {
      "cell_type": "code",
      "source": [
        "import os\n",
        "import sys\n",
        "\n",
        "from google.colab import drive\n",
        "drive.mount('/content/drive')\n",
        "PROJECT_ROOT = '/content/drive/My Drive/d2d_channelprediction'\n",
        "%mkdir '/content/drive/My Drive/d2d_channelprediction' -p\n",
        "%cd '/content/drive/My Drive/d2d_channelprediction'\n",
        "DATASETS_PATH = \"data\"\n",
        "WORKING_PATH = \".\"\n",
        "%mkdir $DATASETS_PATH -p\n",
        "\n",
        "LOGDIR = f\"{WORKING_PATH}/logs\"\n",
        "MODEL_VERSION = 'TEST'"
      ],
      "metadata": {
        "colab": {
          "base_uri": "https://localhost:8080/"
        },
        "id": "vG6u75OixPfR",
        "outputId": "260a25c2-41c9-4615-912d-abe27f1cc66d"
      },
      "execution_count": 2,
      "outputs": [
        {
          "output_type": "stream",
          "name": "stdout",
          "text": [
            "Drive already mounted at /content/drive; to attempt to forcibly remount, call drive.mount(\"/content/drive\", force_remount=True).\n",
            "/content/drive/My Drive/d2d_channelprediction\n"
          ]
        }
      ]
    },
    {
      "cell_type": "code",
      "source": [
        "import numpy as np\n",
        "import pandas as pd\n",
        "import tensorflow as tf\n",
        "from typing import Dict, NamedTuple, Union\n",
        "from tqdm.notebook import tqdm\n",
        "import logging\n",
        "from matplotlib import pyplot as plt\n",
        "import time\n",
        "from itertools import product\n",
        "import gc\n",
        "import pathlib\n",
        "from glob import glob\n",
        "import pdb\n",
        "\n",
        "from dateutil.relativedelta import relativedelta"
      ],
      "metadata": {
        "id": "Pd7VLsKRxSKT"
      },
      "execution_count": 3,
      "outputs": []
    },
    {
      "cell_type": "code",
      "source": [
        "class DataLoader:\n",
        "  def __init__(self, path=\"data/\", split='train'):\n",
        "    self.path = path\n",
        "    self.split = split\n",
        "    ts_raw = pd.read_csv(os.path.join(path,f'{split}_d2d.csv')).iloc[:,1:].values.astype(np.float32)\n",
        "    self.ts_raw = []\n",
        "    \n",
        "    for ts in ts_raw:\n",
        "      self.ts_raw.append(ts[~np.isnan(ts)])\n",
        "\n",
        "\n",
        "    self.ts_weight = np.zeros((len(self.ts_raw),), dtype=np.float32)\n",
        "    for i,ts in enumerate(self.ts_raw):\n",
        "      self.ts_weight[i] = len(ts)\n",
        "    self.ts_weight = self.ts_weight / self.ts_weight.sum()\n",
        "\n",
        "  def get_batch(self, batch_size=264, win_len=14*2, horizon=12, ts_sampling='uniform'):\n",
        "  \n",
        "    target_ts = np.zeros((batch_size, horizon), dtype=np.float32)\n",
        "    history_ts = np.zeros((batch_size, win_len), dtype=np.float32)\n",
        "\n",
        "    if ts_sampling == \"uniform\":\n",
        "        ts_idxs = np.random.choice(np.arange(len(self.ts_raw)), size=batch_size, replace=True)\n",
        "    elif ts_sampling == \"ts_weight\":\n",
        "        ts_idxs = np.random.choice(np.arange(len(self.ts_raw)), size=batch_size, replace=True, p=self.ts_weight)\n",
        "        \n",
        "    for i, ts_id in enumerate(ts_idxs):\n",
        "        ts = self.ts_raw[ts_id]\n",
        "        sampling_point = np.random.choice(np.arange(win_len, len(ts)-horizon+1), size=1, replace=False)[0]\n",
        "        history_ts[i,:] = ts[sampling_point-win_len:sampling_point]\n",
        "        target_ts[i,:] = ts[sampling_point:sampling_point+horizon]\n",
        "\n",
        "    batch = {\"history\": history_ts, \"target\": target_ts}\n",
        "    return batch\n",
        "\n",
        "  def get_sequential_batch(self, win_len=14*2):\n",
        "    history_ts = np.zeros((len(self.ts_raw), win_len), dtype=np.float32)\n",
        "    for i, ts in enumerate(self.ts_raw):\n",
        "        history_ts[i,:] = ts[-win_len:]\n",
        "    return {\"history\": history_ts}\n",
        "\n",
        "train_dataset = DataLoader(path='data', split='train')\n",
        "test_dataset = DataLoader(path='data', split='test')"
      ],
      "metadata": {
        "id": "qf98gFGBxVeR"
      },
      "execution_count": 4,
      "outputs": []
    },
    {
      "cell_type": "code",
      "source": [
        "win_len=12*2\n",
        "batch = train_dataset.get_batch(win_len=win_len, batch_size = 64)\n",
        "\n",
        "plt.plot(batch[\"history\"][0])\n",
        "plt.plot(np.concatenate([np.nan*np.zeros((win_len,)), batch[\"target\"][0]]))"
      ],
      "metadata": {
        "colab": {
          "base_uri": "https://localhost:8080/",
          "height": 283
        },
        "id": "vsgI7ig3xjzt",
        "outputId": "36d01f1f-f776-46d7-eafa-09824051be7d"
      },
      "execution_count": 5,
      "outputs": [
        {
          "output_type": "execute_result",
          "data": {
            "text/plain": [
              "[<matplotlib.lines.Line2D at 0x7f81ef064090>]"
            ]
          },
          "metadata": {},
          "execution_count": 5
        },
        {
          "output_type": "display_data",
          "data": {
            "text/plain": [
              "<Figure size 432x288 with 1 Axes>"
            ],
            "image/png": "[encoded data removed]"
          },
          "metadata": {
            "needs_background": "light"
          }
        }
      ]
    },
    {
      "cell_type": "code",
      "source": [
        "batch = train_dataset.get_sequential_batch()\n",
        "id = 1\n",
        "\n",
        "plt.plot(train_dataset.ts_raw[id][-24:])\n",
        "plt.plot(np.concatenate([np.nan*np.zeros((24,)), test_dataset.ts_raw[id]]))"
      ],
      "metadata": {
        "colab": {
          "base_uri": "https://localhost:8080/",
          "height": 283
        },
        "id": "9Ne6bbmsxlO_",
        "outputId": "444a3626-4b20-4df9-c73d-0f39237e6115"
      },
      "execution_count": 6,
      "outputs": [
        {
          "output_type": "execute_result",
          "data": {
            "text/plain": [
              "[<matplotlib.lines.Line2D at 0x7f81ef14b150>]"
            ]
          },
          "metadata": {},
          "execution_count": 6
        },
        {
          "output_type": "display_data",
          "data": {
            "text/plain": [
              "<Figure size 432x288 with 1 Axes>"
            ],
            "image/png": "[encoded data removed]"
          },
          "metadata": {
            "needs_background": "light"
          }
        }
      ]
    },
    {
      "cell_type": "code",
      "source": [
        "train_dataset.ts_raw[0].shape"
      ],
      "metadata": {
        "colab": {
          "base_uri": "https://localhost:8080/"
        },
        "id": "BGVUzuMYxvFL",
        "outputId": "f30c7962-105d-4979-c9f7-1e4d3912b9fb"
      },
      "execution_count": 7,
      "outputs": [
        {
          "output_type": "execute_result",
          "data": {
            "text/plain": [
              "(18114,)"
            ]
          },
          "metadata": {},
          "execution_count": 7
        }
      ]
    },
    {
      "cell_type": "code",
      "source": [
        "test_dataset.ts_raw[0].shape"
      ],
      "metadata": {
        "colab": {
          "base_uri": "https://localhost:8080/"
        },
        "id": "8SPD474_y5pZ",
        "outputId": "25c8f55e-6d55-423c-830f-ff7436a96eff"
      },
      "execution_count": 8,
      "outputs": [
        {
          "output_type": "execute_result",
          "data": {
            "text/plain": [
              "(12,)"
            ]
          },
          "metadata": {},
          "execution_count": 8
        }
      ]
    },
    {
      "cell_type": "code",
      "source": [
        "HORIZON = 12\n",
        "\n",
        "los_indoor = pd.read_csv('/content/fast_fading_dB_LOS_Head_Indoor_downsampled100hz_n50.txt', header=None, delimiter=r\"\\s+\").dropna().T\n",
        "los_outdoor = pd.read_csv('/content/fast_fading_dB_LOS_Head_Outdoor_downsampled100hz_n50.txt', header=None, delimiter=r\"\\s+\").dropna().T\n",
        "nlos_indoor = pd.read_csv('/content/fast_fading_dB_NLOS_Head_Indoor_downsampled100hz_n50.txt', header=None, delimiter=r\"\\s+\").dropna().T\n",
        "nlos_outdoor = pd.read_csv('/content/fast_fading_dB_NLOS_Head_Outdoor_downsampled100hz_n50.txt', header=None, delimiter=r\"\\s+\").dropna().T\n",
        "\n",
        "train_los_indoor = los_indoor[0:int(len(los_indoor - HORIZON))]\n",
        "test_los_indoor = los_indoor[-int(HORIZON):].reset_index(drop=True)\n",
        "\n",
        "train_los_outdoor = los_outdoor[0:int(len(los_indoor - HORIZON))]\n",
        "test_los_outdoor = los_outdoor[-int(HORIZON):].reset_index(drop=True)\n",
        "\n",
        "train_nlos_indoor = nlos_indoor[0:int(len(los_indoor - HORIZON))]\n",
        "test_nlos_indoor = nlos_indoor[-int(HORIZON):].reset_index(drop=True)\n",
        "\n",
        "train_nlos_outdoor = nlos_outdoor[0:int(len(los_indoor - HORIZON))]\n",
        "test_nlos_outdoor = nlos_outdoor[-int(HORIZON):].reset_index(drop=True)\n",
        "\n",
        "train_dataset = pd.concat([train_los_indoor, train_los_outdoor, train_nlos_indoor, train_nlos_outdoor], axis=1).T.reset_index(drop=True)\n",
        "test_dataset = pd.concat([test_los_indoor, test_los_outdoor, test_nlos_indoor, test_nlos_outdoor], axis = 1).T.reset_index(drop=True)"
      ],
      "metadata": {
        "id": "8-56PZ6bz6ls"
      },
      "execution_count": 9,
      "outputs": []
    },
    {
      "cell_type": "code",
      "source": [
        "import pandas as pd\n",
        "from darts import TimeSeries\n",
        "\n",
        "# Read a pandas DataFrame\n",
        "df = train_nlos_indoor\n",
        "df.index = pd.RangeIndex(start=0, stop=len(train_nlos_indoor), step=1, name='index')\n",
        "df = df.reset_index(level=0)\n",
        "df.columns = ['index', 'values']\n",
        "# Create a TimeSeries, specifying the time and value columns\n",
        "series = TimeSeries.from_dataframe(df,'index', 'values')\n",
        "\n",
        "# Set aside the last 36 months as a validation series\n",
        "train, val = series[:-12], series[-12:]"
      ],
      "metadata": {
        "id": "pZSgHk-y0Hec"
      },
      "execution_count": 18,
      "outputs": []
    },
    {
      "cell_type": "code",
      "source": [
        "train.plot()"
      ],
      "metadata": {
        "colab": {
          "base_uri": "https://localhost:8080/",
          "height": 278
        },
        "id": "7wEYoWBi34sw",
        "outputId": "d54f3d7d-d8d7-4010-e28a-d4d4fa65c5e0"
      },
      "execution_count": 19,
      "outputs": [
        {
          "output_type": "display_data",
          "data": {
            "text/plain": [
              "<Figure size 432x288 with 1 Axes>"
            ],
            "image/png": "[encoded data removed]"
          },
          "metadata": {
            "needs_background": "light"
          }
        }
      ]
    },
    {
      "cell_type": "code",
      "source": [
        "val.plot()"
      ],
      "metadata": {
        "colab": {
          "base_uri": "https://localhost:8080/",
          "height": 278
        },
        "id": "R2DgiKol32nl",
        "outputId": "bb27ca8d-d078-4e1e-9173-7c9c1927a0e0"
      },
      "execution_count": 20,
      "outputs": [
        {
          "output_type": "display_data",
          "data": {
            "text/plain": [
              "<Figure size 432x288 with 1 Axes>"
            ],
            "image/png": "[encoded data removed]"
          },
          "metadata": {
            "needs_background": "light"
          }
        }
      ]
    },
    {
      "cell_type": "code",
      "source": [
        "from darts.models import ARIMA\n",
        "import matplotlib.pyplot as plt\n",
        "\n",
        "model = ARIMA()\n",
        "model.fit(train)\n",
        "prediction_arima = model.predict(len(val))\n",
        "\n",
        "val.plot()\n",
        "prediction_arima.plot(label='forecast', new_plot=False, low_quantile=0.05, high_quantile=0.95)\n",
        "plt.legend()\n",
        "plt.ylim([-1, 1]);\n",
        "print(\"model {} obtains MAE: {:.2f}\".format(model, mae(val, prediction_arima)))"
      ],
      "metadata": {
        "colab": {
          "base_uri": "https://localhost:8080/",
          "height": 300
        },
        "id": "h04J0nJmxuBT",
        "outputId": "e1010513-bd52-4927-bbcc-c507ebb3ed08"
      },
      "execution_count": 41,
      "outputs": [
        {
          "output_type": "stream",
          "name": "stdout",
          "text": [
            "model ARIMA(12, 1, 0) obtains MAE: 0.15%\n"
          ]
        },
        {
          "output_type": "display_data",
          "data": {
            "text/plain": [
              "<Figure size 432x288 with 1 Axes>"
            ],
            "image/png": "[encoded data removed]"
          },
          "metadata": {
            "needs_background": "light"
          }
        }
      ]
    },
    {
      "cell_type": "code",
      "source": [
        "from darts.models import LinearRegressionModel\n",
        "import matplotlib.pyplot as plt\n",
        "\n",
        "model = LinearRegressionModel(lags=24)\n",
        "model.fit(train)\n",
        "prediction_lr = model.predict(len(val))\n",
        "\n",
        "val.plot()\n",
        "prediction_lr.plot(label='forecast', new_plot=False, low_quantile=0.05, high_quantile=0.95)\n",
        "plt.legend()\n",
        "plt.ylim([-3, 1]);\n",
        "print(\"model {} obtains MAE: {:.2f}\".format(model, mae(val, prediction_lr)))"
      ],
      "metadata": {
        "colab": {
          "base_uri": "https://localhost:8080/",
          "height": 300
        },
        "id": "0kcEtT4_Ppuy",
        "outputId": "bac05c51-427e-4db0-826d-3b2fd7f71745"
      },
      "execution_count": 45,
      "outputs": [
        {
          "output_type": "stream",
          "name": "stdout",
          "text": [
            "model LinearRegression(lags={'target': [-24, -23, -22, -21, -20, -19, -18, -17, -16, -15, -14, -13, -12, -11, -10, -9, -8, -7, -6, -5, -4, -3, -2, -1]}) obtains MAE: 0.59%\n"
          ]
        },
        {
          "output_type": "display_data",
          "data": {
            "text/plain": [
              "<Figure size 432x288 with 1 Axes>"
            ],
            "image/png": "[encoded data removed]"
          },
          "metadata": {
            "needs_background": "light"
          }
        }
      ]
    },
    {
      "cell_type": "code",
      "source": [
        "from darts.models import ExponentialSmoothing\n",
        "import matplotlib.pyplot as plt\n",
        "\n",
        "model = ExponentialSmoothing()\n",
        "model.fit(train)\n",
        "prediction_ets = model.predict(len(val))\n",
        "\n",
        "val.plot()\n",
        "prediction_ets.plot(label='forecast', new_plot=False, low_quantile=0.05, high_quantile=0.95)\n",
        "plt.legend()\n",
        "plt.ylim([-3, 1]);\n",
        "print(\"model {} obtains MAE: {:.2f}\".format(model, mae(val, prediction_ets)))"
      ],
      "metadata": {
        "colab": {
          "base_uri": "https://localhost:8080/",
          "height": 300
        },
        "id": "-u9Z72XPzFFw",
        "outputId": "3f5ebd4d-6ea8-4bf6-b7f0-ba8775c5b00b"
      },
      "execution_count": 47,
      "outputs": [
        {
          "output_type": "stream",
          "name": "stdout",
          "text": [
            "model ExponentialSmoothing(trend=ModelMode.ADDITIVE, damped=False, seasonal=SeasonalityMode.ADDITIVE, seasonal_periods=12 obtains MAE: 1.18\n"
          ]
        },
        {
          "output_type": "display_data",
          "data": {
            "text/plain": [
              "<Figure size 432x288 with 1 Axes>"
            ],
            "image/png": "[encoded data removed]"
          },
          "metadata": {
            "needs_background": "light"
          }
        }
      ]
    },
    {
      "cell_type": "code",
      "source": [
        "from darts.models import RNNModel\n",
        "import matplotlib.pyplot as plt\n",
        "\n",
        "model = RNNModel(input_chunk_length=24)\n",
        "model.fit(train)\n",
        "prediction_rnn = model.predict(len(val))\n",
        "\n",
        "val.plot()\n",
        "prediction_rnn.plot(label='forecast', new_plot=False, low_quantile=0.05, high_quantile=0.95)\n",
        "plt.legend()\n",
        "plt.ylim([-3, 1]);\n",
        "print(\"model {} obtains MAE: {:.2f}\".format(model, mae(val, prediction_rnn)))"
      ],
      "metadata": {
        "colab": {
          "base_uri": "https://localhost:8080/",
          "height": 768,
          "referenced_widgets": [
            "71520bbcea0346ca87739ec988232655",
            "cda32163f1f642a1b4971eb62d044971",
            "46c704c50c284031973c8d31cc8a9c44",
            "33a449b686f043c5a45571a322d3c860",
            "ffa2a559aae94c1a8f3f325b3b071aa5",
            "0fade357c99e46188ee626fd173463b6",
            "c4df4213828142938ba371fe72f99697",
            "498d344a6e3344188bfa88b113baefe7",
            "49d9e36ac94d4183b5be0c8456c4d845",
            "c4b5eadf39a9408c8af06e90d2ed345a",
            "3d327f2656264091b8691fce3e226df9",
            "6a082f3d8dce4aa885de85b28ec0ac39",
            "0cfcddf25a594d038e72ea4b5ded3a5f",
            "48f68379e52f457b85e3b73ceb636bc5",
            "f6b41b5fa804457aa41914c1eb4ca096",
            "2c7732cbce6b4d5e8bd907b34ab910b7",
            "d798e3d4510a4564b6a41f9cb39e5315",
            "f6268b3bb33344edb5df73cc04b68e8b",
            "95d70bdf16a84369b3b482c2a04f28d9",
            "447f4b200cad4695bd4568d56ce96aea",
            "8ad1ba59d5ce41918bbe56d2b70256a9",
            "7f5b2df98f1645ad9f2d374b991675f8"
          ]
        },
        "id": "fPVX22IQMTqw",
        "outputId": "aacc93a6-85ea-43a7-a775-9cfd152bab63"
      },
      "execution_count": 48,
      "outputs": [
        {
          "output_type": "stream",
          "name": "stderr",
          "text": [
            "2022-08-02 20:37:06 darts.models.forecasting.torch_forecasting_model INFO: Train dataset contains 16763 samples.\n",
            "2022-08-02 20:37:06 darts.models.forecasting.torch_forecasting_model INFO: Time series values are 64-bits; casting model to float64.\n",
            "2022-08-02 20:37:06 pytorch_lightning.utilities.rank_zero INFO: GPU available: True, used: False\n",
            "2022-08-02 20:37:06 pytorch_lightning.utilities.rank_zero INFO: TPU available: False, using: 0 TPU cores\n",
            "2022-08-02 20:37:06 pytorch_lightning.utilities.rank_zero INFO: IPU available: False, using: 0 IPUs\n",
            "2022-08-02 20:37:06 pytorch_lightning.utilities.rank_zero INFO: HPU available: False, using: 0 HPUs\n",
            "/usr/local/lib/python3.7/dist-packages/pytorch_lightning/trainer/trainer.py:1817: PossibleUserWarning: GPU available but not used. Set `accelerator` and `devices` using `Trainer(accelerator='gpu', devices=1)`.\n",
            "  category=PossibleUserWarning,\n",
            "2022-08-02 20:37:06 pytorch_lightning.callbacks.model_summary INFO: \n",
            "  | Name          | Type             | Params\n",
            "---------------------------------------------------\n",
            "0 | criterion     | MSELoss          | 0     \n",
            "1 | train_metrics | MetricCollection | 0     \n",
            "2 | val_metrics   | MetricCollection | 0     \n",
            "3 | rnn           | RNN              | 700   \n",
            "4 | V             | Linear           | 26    \n",
            "---------------------------------------------------\n",
            "726       Trainable params\n",
            "0         Non-trainable params\n",
            "726       Total params\n",
            "0.006     Total estimated model params size (MB)\n"
          ]
        },
        {
          "output_type": "display_data",
          "data": {
            "text/plain": [
              "Training: 0it [00:00, ?it/s]"
            ],
            "application/vnd.jupyter.widget-view+json": {
              "version_major": 2,
              "version_minor": 0,
              "model_id": "71520bbcea0346ca87739ec988232655"
            }
          },
          "metadata": {}
        },
        {
          "output_type": "display_data",
          "data": {
            "text/plain": [
              "Predicting: 524it [00:00, ?it/s]"
            ],
            "application/vnd.jupyter.widget-view+json": {
              "version_major": 2,
              "version_minor": 0,
              "model_id": "6a082f3d8dce4aa885de85b28ec0ac39"
            }
          },
          "metadata": {}
        },
        {
          "output_type": "stream",
          "name": "stdout",
          "text": [
            "model <darts.models.forecasting.rnn_model.RNNModel object at 0x7f808c246850> obtains MAE: 0.57\n"
          ]
        },
        {
          "output_type": "display_data",
          "data": {
            "text/plain": [
              "<Figure size 432x288 with 1 Axes>"
            ],
            "image/png": "[encoded data removed]"
          },
          "metadata": {
            "needs_background": "light"
          }
        }
      ]
    },
    {
      "cell_type": "code",
      "source": [
        "from darts.models import RegressionModel\n",
        "import matplotlib.pyplot as plt\n",
        "\n",
        "model = RegressionModel(lags=24)\n",
        "model.fit(train)\n",
        "prediction_lr = model.predict(len(val))\n",
        "\n",
        "val.plot()\n",
        "prediction_lr.plot(label='forecast', new_plot=False, low_quantile=0.05, high_quantile=0.95)\n",
        "plt.legend()\n",
        "plt.ylim([-3, 1]);\n",
        "print(\"model {} obtains MAE: {:.2f}\".format(model, mae(val, prediction_lr)))"
      ],
      "metadata": {
        "colab": {
          "base_uri": "https://localhost:8080/",
          "height": 300
        },
        "id": "xw_xFpF68wH5",
        "outputId": "7cce19ea-0c91-4109-e5c8-c685d853c45e"
      },
      "execution_count": 51,
      "outputs": [
        {
          "output_type": "stream",
          "name": "stdout",
          "text": [
            "model LinearRegression(n_jobs=-1) obtains MAE: 0.59\n"
          ]
        },
        {
          "output_type": "display_data",
          "data": {
            "text/plain": [
              "<Figure size 432x288 with 1 Axes>"
            ],
            "image/png": "[encoded data removed]"
          },
          "metadata": {
            "needs_background": "light"
          }
        }
      ]
    },
    {
      "cell_type": "code",
      "source": [
        "from darts.models import TransformerModel\n",
        "import matplotlib.pyplot as plt\n",
        "\n",
        "model = TransformerModel(input_chunk_length = 24, output_chunk_length = 12)\n",
        "model.fit(train)\n",
        "prediction_transf = model.predict(len(val))\n",
        "\n",
        "val.plot()\n",
        "prediction_transf.plot(label='forecast', new_plot=False, low_quantile=0.05, high_quantile=0.95)\n",
        "plt.legend()\n",
        "plt.ylim([-3, 1]);\n",
        "print(\"model {} obtains MAE: {:.2f}\".format(model, mae(val, prediction_lr)))"
      ],
      "metadata": {
        "colab": {
          "base_uri": "https://localhost:8080/",
          "height": 841,
          "referenced_widgets": [
            "043550a9a84c4de8a42855c4ea7cdb4d",
            "882cbd367f9a41ebbf20432bda0171c4",
            "5053c3a89cd14efea1a9bb6a587f789a",
            "c4f47ddef4a041248f18fff81824e7c4",
            "d1d3fb71d95141a5afb6439491627c27",
            "1e687404cc354e56baac91d8e1815b6d",
            "d5b54a140c2e452685137a1d309fab19",
            "e9aa5456d91745c3acf0a82cf2e64675",
            "26af194741f74db591c69b535626fb83",
            "236e0c3b59414bf9bf2f1f0c530d5c00",
            "b39de7382a1645df93e2686412fdda32",
            "beba245109d54028a6c99fb535af1510",
            "d7e0e29dde244e63be3a4d6fc4a5b5b2",
            "a045ad0b1fe64afe8e15720afc3ba5d4",
            "a60999a7244a4fefb05cbbfbd24f62e1",
            "90a92812a52f4001996f40a47a9acbe5",
            "684fefe6fa2048a0ac48bfc208aab399",
            "d0f67db4b5d14d47a2a13e0898281acc",
            "324a5dc4c9ac4dbdbb0c3dac93842b03",
            "dd4396204cc44f61afbbffd7f7383761",
            "ac8c5f1fb63041d78fecf94d428aed61",
            "cf38690e0cf548d7a23412b89a8b3861"
          ]
        },
        "id": "2b_H7oAY9ni3",
        "outputId": "98f7ebbf-1564-4c31-813a-9dda7669fe9c"
      },
      "execution_count": 52,
      "outputs": [
        {
          "output_type": "stream",
          "name": "stderr",
          "text": [
            "2022-08-02 20:55:23 darts.models.forecasting.torch_forecasting_model INFO: Train dataset contains 16752 samples.\n",
            "2022-08-02 20:55:23 darts.models.forecasting.torch_forecasting_model INFO: Time series values are 64-bits; casting model to float64.\n",
            "2022-08-02 20:55:23 pytorch_lightning.utilities.rank_zero INFO: GPU available: True, used: False\n",
            "2022-08-02 20:55:23 pytorch_lightning.utilities.rank_zero INFO: TPU available: False, using: 0 TPU cores\n",
            "2022-08-02 20:55:23 pytorch_lightning.utilities.rank_zero INFO: IPU available: False, using: 0 IPUs\n",
            "2022-08-02 20:55:23 pytorch_lightning.utilities.rank_zero INFO: HPU available: False, using: 0 HPUs\n",
            "/usr/local/lib/python3.7/dist-packages/pytorch_lightning/trainer/trainer.py:1817: PossibleUserWarning: GPU available but not used. Set `accelerator` and `devices` using `Trainer(accelerator='gpu', devices=1)`.\n",
            "  category=PossibleUserWarning,\n",
            "2022-08-02 20:55:23 pytorch_lightning.callbacks.model_summary INFO: \n",
            "  | Name                | Type                | Params\n",
            "------------------------------------------------------------\n",
            "0 | criterion           | MSELoss             | 0     \n",
            "1 | train_metrics       | MetricCollection    | 0     \n",
            "2 | val_metrics         | MetricCollection    | 0     \n",
            "3 | encoder             | Linear              | 128   \n",
            "4 | positional_encoding | _PositionalEncoding | 0     \n",
            "5 | transformer         | Transformer         | 548 K \n",
            "6 | decoder             | Linear              | 780   \n",
            "------------------------------------------------------------\n",
            "549 K     Trainable params\n",
            "0         Non-trainable params\n",
            "549 K     Total params\n",
            "4.396     Total estimated model params size (MB)\n"
          ]
        },
        {
          "output_type": "display_data",
          "data": {
            "text/plain": [
              "Training: 0it [00:00, ?it/s]"
            ],
            "application/vnd.jupyter.widget-view+json": {
              "version_major": 2,
              "version_minor": 0,
              "model_id": "043550a9a84c4de8a42855c4ea7cdb4d"
            }
          },
          "metadata": {}
        },
        {
          "output_type": "stream",
          "name": "stderr",
          "text": [
            "/usr/local/lib/python3.7/dist-packages/pytorch_lightning/trainer/trainer.py:726: UserWarning: Detected KeyboardInterrupt, attempting graceful shutdown...\n",
            "  rank_zero_warn(\"Detected KeyboardInterrupt, attempting graceful shutdown...\")\n"
          ]
        },
        {
          "output_type": "display_data",
          "data": {
            "text/plain": [
              "Predicting: 138it [00:00, ?it/s]"
            ],
            "application/vnd.jupyter.widget-view+json": {
              "version_major": 2,
              "version_minor": 0,
              "model_id": "beba245109d54028a6c99fb535af1510"
            }
          },
          "metadata": {}
        },
        {
          "output_type": "stream",
          "name": "stdout",
          "text": [
            "model <darts.models.forecasting.transformer_model.TransformerModel object at 0x7f808bbbc790> obtains MAE: 0.59\n"
          ]
        },
        {
          "output_type": "display_data",
          "data": {
            "text/plain": [
              "<Figure size 432x288 with 1 Axes>"
            ],
            "image/png": "[encoded data removed]"
          },
          "metadata": {
            "needs_background": "light"
          }
        }
      ]
    },
    {
      "cell_type": "code",
      "source": [
        "# from darts.models import ExponentialSmoothing, TBATS, ARIMA, Theta, NBEATSModel, RNNModel\n",
        "\n",
        "\n",
        "# def eval_model(model):\n",
        "#     model.fit(train)\n",
        "#     forecast = model.predict(len(val))\n",
        "#     print(\"model {} obtains MAE: {:.2f}%\".format(model, mae(val, forecast)))\n",
        "\n",
        "\n",
        "# eval_model(ExponentialSmoothing())\n",
        "# eval_model(TBATS())\n",
        "# eval_model(ARIMA())\n",
        "# eval_model(RNNModel(input_chunk_length=24, output_chunk_length=12, hidden_dim=50))\n",
        "# # Theta(season_mode='additive')\n",
        "# eval_model(NBEATSModel(input_chunk_length=24, output_chunk_length=12, random_state=42))\n",
        "\n"
      ],
      "metadata": {
        "id": "jTuxsSJp6tj9"
      },
      "execution_count": null,
      "outputs": []
    },
    {
      "cell_type": "code",
      "source": [
        ""
      ],
      "metadata": {
        "id": "IK9uYP5G5fF_"
      },
      "execution_count": null,
      "outputs": []
    }
  ]
}