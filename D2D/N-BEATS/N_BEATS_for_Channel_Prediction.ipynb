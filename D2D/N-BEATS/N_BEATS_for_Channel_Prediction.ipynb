{
  "nbformat": 4,
  "nbformat_minor": 0,
  "metadata": {
    "colab": {
      "name": "N_BEATS_for_Channel_Prediction.ipynb",
      "provenance": []
    },
    "kernelspec": {
      "name": "python3",
      "display_name": "Python 3"
    },
    "language_info": {
      "name": "python"
    },
    "accelerator": "GPU",
    "gpuClass": "standard",
    "widgets": {
      "application/vnd.jupyter.widget-state+json": {
        "ffdd426591634eebb9f389645a755cd2": {
          "model_module": "@jupyter-widgets/controls",
          "model_name": "HBoxModel",
          "model_module_version": "1.5.0",
          "state": {
            "_dom_classes": [],
            "_model_module": "@jupyter-widgets/controls",
            "_model_module_version": "1.5.0",
            "_model_name": "HBoxModel",
            "_view_count": null,
            "_view_module": "@jupyter-widgets/controls",
            "_view_module_version": "1.5.0",
            "_view_name": "HBoxView",
            "box_style": "",
            "children": [
              "IPY_MODEL_d489a72e5105467881b7821a6f61b229",
              "IPY_MODEL_543f23a239a4436cb48ae48c51994033",
              "IPY_MODEL_84d0540348334d789af1251ddc15bee2"
            ],
            "layout": "IPY_MODEL_9f6e1f0618904ed5a9cab4aa6a1c0e86"
          }
        },
        "d489a72e5105467881b7821a6f61b229": {
          "model_module": "@jupyter-widgets/controls",
          "model_name": "HTMLModel",
          "model_module_version": "1.5.0",
          "state": {
            "_dom_classes": [],
            "_model_module": "@jupyter-widgets/controls",
            "_model_module_version": "1.5.0",
            "_model_name": "HTMLModel",
            "_view_count": null,
            "_view_module": "@jupyter-widgets/controls",
            "_view_module_version": "1.5.0",
            "_view_name": "HTMLView",
            "description": "",
            "description_tooltip": null,
            "layout": "IPY_MODEL_3526256edf3c418a847201550518ff78",
            "placeholder": "​",
            "style": "IPY_MODEL_bb44f0c18d1747f29ec948690d145f51",
            "value": "100%"
          }
        },
        "543f23a239a4436cb48ae48c51994033": {
          "model_module": "@jupyter-widgets/controls",
          "model_name": "FloatProgressModel",
          "model_module_version": "1.5.0",
          "state": {
            "_dom_classes": [],
            "_model_module": "@jupyter-widgets/controls",
            "_model_module_version": "1.5.0",
            "_model_name": "FloatProgressModel",
            "_view_count": null,
            "_view_module": "@jupyter-widgets/controls",
            "_view_module_version": "1.5.0",
            "_view_name": "ProgressView",
            "bar_style": "success",
            "description": "",
            "description_tooltip": null,
            "layout": "IPY_MODEL_f80fc30e91d345e9a3886527f1f904ee",
            "max": 2,
            "min": 0,
            "orientation": "horizontal",
            "style": "IPY_MODEL_2ced6d9ef1c34ff0a57ccca68cf0a5ac",
            "value": 2
          }
        },
        "84d0540348334d789af1251ddc15bee2": {
          "model_module": "@jupyter-widgets/controls",
          "model_name": "HTMLModel",
          "model_module_version": "1.5.0",
          "state": {
            "_dom_classes": [],
            "_model_module": "@jupyter-widgets/controls",
            "_model_module_version": "1.5.0",
            "_model_name": "HTMLModel",
            "_view_count": null,
            "_view_module": "@jupyter-widgets/controls",
            "_view_module_version": "1.5.0",
            "_view_name": "HTMLView",
            "description": "",
            "description_tooltip": null,
            "layout": "IPY_MODEL_98da95433726450d9f4cfd2a013597f6",
            "placeholder": "​",
            "style": "IPY_MODEL_74b4c611e35e4c4093a60c883fc39b09",
            "value": " 2/2 [00:00&lt;00:00, 67.98it/s]"
          }
        },
        "9f6e1f0618904ed5a9cab4aa6a1c0e86": {
          "model_module": "@jupyter-widgets/base",
          "model_name": "LayoutModel",
          "model_module_version": "1.2.0",
          "state": {
            "_model_module": "@jupyter-widgets/base",
            "_model_module_version": "1.2.0",
            "_model_name": "LayoutModel",
            "_view_count": null,
            "_view_module": "@jupyter-widgets/base",
            "_view_module_version": "1.2.0",
            "_view_name": "LayoutView",
            "align_content": null,
            "align_items": null,
            "align_self": null,
            "border": null,
            "bottom": null,
            "display": null,
            "flex": null,
            "flex_flow": null,
            "grid_area": null,
            "grid_auto_columns": null,
            "grid_auto_flow": null,
            "grid_auto_rows": null,
            "grid_column": null,
            "grid_gap": null,
            "grid_row": null,
            "grid_template_areas": null,
            "grid_template_columns": null,
            "grid_template_rows": null,
            "height": null,
            "justify_content": null,
            "justify_items": null,
            "left": null,
            "margin": null,
            "max_height": null,
            "max_width": null,
            "min_height": null,
            "min_width": null,
            "object_fit": null,
            "object_position": null,
            "order": null,
            "overflow": null,
            "overflow_x": null,
            "overflow_y": null,
            "padding": null,
            "right": null,
            "top": null,
            "visibility": null,
            "width": null
          }
        },
        "3526256edf3c418a847201550518ff78": {
          "model_module": "@jupyter-widgets/base",
          "model_name": "LayoutModel",
          "model_module_version": "1.2.0",
          "state": {
            "_model_module": "@jupyter-widgets/base",
            "_model_module_version": "1.2.0",
            "_model_name": "LayoutModel",
            "_view_count": null,
            "_view_module": "@jupyter-widgets/base",
            "_view_module_version": "1.2.0",
            "_view_name": "LayoutView",
            "align_content": null,
            "align_items": null,
            "align_self": null,
            "border": null,
            "bottom": null,
            "display": null,
            "flex": null,
            "flex_flow": null,
            "grid_area": null,
            "grid_auto_columns": null,
            "grid_auto_flow": null,
            "grid_auto_rows": null,
            "grid_column": null,
            "grid_gap": null,
            "grid_row": null,
            "grid_template_areas": null,
            "grid_template_columns": null,
            "grid_template_rows": null,
            "height": null,
            "justify_content": null,
            "justify_items": null,
            "left": null,
            "margin": null,
            "max_height": null,
            "max_width": null,
            "min_height": null,
            "min_width": null,
            "object_fit": null,
            "object_position": null,
            "order": null,
            "overflow": null,
            "overflow_x": null,
            "overflow_y": null,
            "padding": null,
            "right": null,
            "top": null,
            "visibility": null,
            "width": null
          }
        },
        "bb44f0c18d1747f29ec948690d145f51": {
          "model_module": "@jupyter-widgets/controls",
          "model_name": "DescriptionStyleModel",
          "model_module_version": "1.5.0",
          "state": {
            "_model_module": "@jupyter-widgets/controls",
            "_model_module_version": "1.5.0",
            "_model_name": "DescriptionStyleModel",
            "_view_count": null,
            "_view_module": "@jupyter-widgets/base",
            "_view_module_version": "1.2.0",
            "_view_name": "StyleView",
            "description_width": ""
          }
        },
        "f80fc30e91d345e9a3886527f1f904ee": {
          "model_module": "@jupyter-widgets/base",
          "model_name": "LayoutModel",
          "model_module_version": "1.2.0",
          "state": {
            "_model_module": "@jupyter-widgets/base",
            "_model_module_version": "1.2.0",
            "_model_name": "LayoutModel",
            "_view_count": null,
            "_view_module": "@jupyter-widgets/base",
            "_view_module_version": "1.2.0",
            "_view_name": "LayoutView",
            "align_content": null,
            "align_items": null,
            "align_self": null,
            "border": null,
            "bottom": null,
            "display": null,
            "flex": null,
            "flex_flow": null,
            "grid_area": null,
            "grid_auto_columns": null,
            "grid_auto_flow": null,
            "grid_auto_rows": null,
            "grid_column": null,
            "grid_gap": null,
            "grid_row": null,
            "grid_template_areas": null,
            "grid_template_columns": null,
            "grid_template_rows": null,
            "height": null,
            "justify_content": null,
            "justify_items": null,
            "left": null,
            "margin": null,
            "max_height": null,
            "max_width": null,
            "min_height": null,
            "min_width": null,
            "object_fit": null,
            "object_position": null,
            "order": null,
            "overflow": null,
            "overflow_x": null,
            "overflow_y": null,
            "padding": null,
            "right": null,
            "top": null,
            "visibility": null,
            "width": null
          }
        },
        "2ced6d9ef1c34ff0a57ccca68cf0a5ac": {
          "model_module": "@jupyter-widgets/controls",
          "model_name": "ProgressStyleModel",
          "model_module_version": "1.5.0",
          "state": {
            "_model_module": "@jupyter-widgets/controls",
            "_model_module_version": "1.5.0",
            "_model_name": "ProgressStyleModel",
            "_view_count": null,
            "_view_module": "@jupyter-widgets/base",
            "_view_module_version": "1.2.0",
            "_view_name": "StyleView",
            "bar_color": null,
            "description_width": ""
          }
        },
        "98da95433726450d9f4cfd2a013597f6": {
          "model_module": "@jupyter-widgets/base",
          "model_name": "LayoutModel",
          "model_module_version": "1.2.0",
          "state": {
            "_model_module": "@jupyter-widgets/base",
            "_model_module_version": "1.2.0",
            "_model_name": "LayoutModel",
            "_view_count": null,
            "_view_module": "@jupyter-widgets/base",
            "_view_module_version": "1.2.0",
            "_view_name": "LayoutView",
            "align_content": null,
            "align_items": null,
            "align_self": null,
            "border": null,
            "bottom": null,
            "display": null,
            "flex": null,
            "flex_flow": null,
            "grid_area": null,
            "grid_auto_columns": null,
            "grid_auto_flow": null,
            "grid_auto_rows": null,
            "grid_column": null,
            "grid_gap": null,
            "grid_row": null,
            "grid_template_areas": null,
            "grid_template_columns": null,
            "grid_template_rows": null,
            "height": null,
            "justify_content": null,
            "justify_items": null,
            "left": null,
            "margin": null,
            "max_height": null,
            "max_width": null,
            "min_height": null,
            "min_width": null,
            "object_fit": null,
            "object_position": null,
            "order": null,
            "overflow": null,
            "overflow_x": null,
            "overflow_y": null,
            "padding": null,
            "right": null,
            "top": null,
            "visibility": null,
            "width": null
          }
        },
        "74b4c611e35e4c4093a60c883fc39b09": {
          "model_module": "@jupyter-widgets/controls",
          "model_name": "DescriptionStyleModel",
          "model_module_version": "1.5.0",
          "state": {
            "_model_module": "@jupyter-widgets/controls",
            "_model_module_version": "1.5.0",
            "_model_name": "DescriptionStyleModel",
            "_view_count": null,
            "_view_module": "@jupyter-widgets/base",
            "_view_module_version": "1.2.0",
            "_view_name": "StyleView",
            "description_width": ""
          }
        },
        "fc9354ee39ae4c2484c827b80819dc81": {
          "model_module": "@jupyter-widgets/controls",
          "model_name": "HBoxModel",
          "model_module_version": "1.5.0",
          "state": {
            "_dom_classes": [],
            "_model_module": "@jupyter-widgets/controls",
            "_model_module_version": "1.5.0",
            "_model_name": "HBoxModel",
            "_view_count": null,
            "_view_module": "@jupyter-widgets/controls",
            "_view_module_version": "1.5.0",
            "_view_name": "HBoxView",
            "box_style": "",
            "children": [
              "IPY_MODEL_0bc396be2b8746b397be87a6d40f214e",
              "IPY_MODEL_59e464a6a6e44f819a5c2ddf783f82f8",
              "IPY_MODEL_ecd8e9dcdeb04ab5adb0c53ce8392046"
            ],
            "layout": "IPY_MODEL_256aa071b9ad4240886ab3fbd968080f"
          }
        },
        "0bc396be2b8746b397be87a6d40f214e": {
          "model_module": "@jupyter-widgets/controls",
          "model_name": "HTMLModel",
          "model_module_version": "1.5.0",
          "state": {
            "_dom_classes": [],
            "_model_module": "@jupyter-widgets/controls",
            "_model_module_version": "1.5.0",
            "_model_name": "HTMLModel",
            "_view_count": null,
            "_view_module": "@jupyter-widgets/controls",
            "_view_module_version": "1.5.0",
            "_view_name": "HTMLView",
            "description": "",
            "description_tooltip": null,
            "layout": "IPY_MODEL_80a44fff53114e4b8e5ac69f29436d66",
            "placeholder": "​",
            "style": "IPY_MODEL_912ac1743f2c436b8ebaa1f8b36ffda5",
            "value": "100%"
          }
        },
        "59e464a6a6e44f819a5c2ddf783f82f8": {
          "model_module": "@jupyter-widgets/controls",
          "model_name": "FloatProgressModel",
          "model_module_version": "1.5.0",
          "state": {
            "_dom_classes": [],
            "_model_module": "@jupyter-widgets/controls",
            "_model_module_version": "1.5.0",
            "_model_name": "FloatProgressModel",
            "_view_count": null,
            "_view_module": "@jupyter-widgets/controls",
            "_view_module_version": "1.5.0",
            "_view_name": "ProgressView",
            "bar_style": "success",
            "description": "",
            "description_tooltip": null,
            "layout": "IPY_MODEL_d4ae34ab6ba547f48e9a962aacb6f51f",
            "max": 2,
            "min": 0,
            "orientation": "horizontal",
            "style": "IPY_MODEL_fa51e59099494c5a8682d0f2ee92c0a6",
            "value": 2
          }
        },
        "ecd8e9dcdeb04ab5adb0c53ce8392046": {
          "model_module": "@jupyter-widgets/controls",
          "model_name": "HTMLModel",
          "model_module_version": "1.5.0",
          "state": {
            "_dom_classes": [],
            "_model_module": "@jupyter-widgets/controls",
            "_model_module_version": "1.5.0",
            "_model_name": "HTMLModel",
            "_view_count": null,
            "_view_module": "@jupyter-widgets/controls",
            "_view_module_version": "1.5.0",
            "_view_name": "HTMLView",
            "description": "",
            "description_tooltip": null,
            "layout": "IPY_MODEL_f11644bdd31f4e28bf898a3a6ea4a4ca",
            "placeholder": "​",
            "style": "IPY_MODEL_f9707bd2041d487fb34c3c06d52ffb48",
            "value": " 2/2 [00:00&lt;00:00, 70.03it/s]"
          }
        },
        "256aa071b9ad4240886ab3fbd968080f": {
          "model_module": "@jupyter-widgets/base",
          "model_name": "LayoutModel",
          "model_module_version": "1.2.0",
          "state": {
            "_model_module": "@jupyter-widgets/base",
            "_model_module_version": "1.2.0",
            "_model_name": "LayoutModel",
            "_view_count": null,
            "_view_module": "@jupyter-widgets/base",
            "_view_module_version": "1.2.0",
            "_view_name": "LayoutView",
            "align_content": null,
            "align_items": null,
            "align_self": null,
            "border": null,
            "bottom": null,
            "display": null,
            "flex": null,
            "flex_flow": null,
            "grid_area": null,
            "grid_auto_columns": null,
            "grid_auto_flow": null,
            "grid_auto_rows": null,
            "grid_column": null,
            "grid_gap": null,
            "grid_row": null,
            "grid_template_areas": null,
            "grid_template_columns": null,
            "grid_template_rows": null,
            "height": null,
            "justify_content": null,
            "justify_items": null,
            "left": null,
            "margin": null,
            "max_height": null,
            "max_width": null,
            "min_height": null,
            "min_width": null,
            "object_fit": null,
            "object_position": null,
            "order": null,
            "overflow": null,
            "overflow_x": null,
            "overflow_y": null,
            "padding": null,
            "right": null,
            "top": null,
            "visibility": null,
            "width": null
          }
        },
        "80a44fff53114e4b8e5ac69f29436d66": {
          "model_module": "@jupyter-widgets/base",
          "model_name": "LayoutModel",
          "model_module_version": "1.2.0",
          "state": {
            "_model_module": "@jupyter-widgets/base",
            "_model_module_version": "1.2.0",
            "_model_name": "LayoutModel",
            "_view_count": null,
            "_view_module": "@jupyter-widgets/base",
            "_view_module_version": "1.2.0",
            "_view_name": "LayoutView",
            "align_content": null,
            "align_items": null,
            "align_self": null,
            "border": null,
            "bottom": null,
            "display": null,
            "flex": null,
            "flex_flow": null,
            "grid_area": null,
            "grid_auto_columns": null,
            "grid_auto_flow": null,
            "grid_auto_rows": null,
            "grid_column": null,
            "grid_gap": null,
            "grid_row": null,
            "grid_template_areas": null,
            "grid_template_columns": null,
            "grid_template_rows": null,
            "height": null,
            "justify_content": null,
            "justify_items": null,
            "left": null,
            "margin": null,
            "max_height": null,
            "max_width": null,
            "min_height": null,
            "min_width": null,
            "object_fit": null,
            "object_position": null,
            "order": null,
            "overflow": null,
            "overflow_x": null,
            "overflow_y": null,
            "padding": null,
            "right": null,
            "top": null,
            "visibility": null,
            "width": null
          }
        },
        "912ac1743f2c436b8ebaa1f8b36ffda5": {
          "model_module": "@jupyter-widgets/controls",
          "model_name": "DescriptionStyleModel",
          "model_module_version": "1.5.0",
          "state": {
            "_model_module": "@jupyter-widgets/controls",
            "_model_module_version": "1.5.0",
            "_model_name": "DescriptionStyleModel",
            "_view_count": null,
            "_view_module": "@jupyter-widgets/base",
            "_view_module_version": "1.2.0",
            "_view_name": "StyleView",
            "description_width": ""
          }
        },
        "d4ae34ab6ba547f48e9a962aacb6f51f": {
          "model_module": "@jupyter-widgets/base",
          "model_name": "LayoutModel",
          "model_module_version": "1.2.0",
          "state": {
            "_model_module": "@jupyter-widgets/base",
            "_model_module_version": "1.2.0",
            "_model_name": "LayoutModel",
            "_view_count": null,
            "_view_module": "@jupyter-widgets/base",
            "_view_module_version": "1.2.0",
            "_view_name": "LayoutView",
            "align_content": null,
            "align_items": null,
            "align_self": null,
            "border": null,
            "bottom": null,
            "display": null,
            "flex": null,
            "flex_flow": null,
            "grid_area": null,
            "grid_auto_columns": null,
            "grid_auto_flow": null,
            "grid_auto_rows": null,
            "grid_column": null,
            "grid_gap": null,
            "grid_row": null,
            "grid_template_areas": null,
            "grid_template_columns": null,
            "grid_template_rows": null,
            "height": null,
            "justify_content": null,
            "justify_items": null,
            "left": null,
            "margin": null,
            "max_height": null,
            "max_width": null,
            "min_height": null,
            "min_width": null,
            "object_fit": null,
            "object_position": null,
            "order": null,
            "overflow": null,
            "overflow_x": null,
            "overflow_y": null,
            "padding": null,
            "right": null,
            "top": null,
            "visibility": null,
            "width": null
          }
        },
        "fa51e59099494c5a8682d0f2ee92c0a6": {
          "model_module": "@jupyter-widgets/controls",
          "model_name": "ProgressStyleModel",
          "model_module_version": "1.5.0",
          "state": {
            "_model_module": "@jupyter-widgets/controls",
            "_model_module_version": "1.5.0",
            "_model_name": "ProgressStyleModel",
            "_view_count": null,
            "_view_module": "@jupyter-widgets/base",
            "_view_module_version": "1.2.0",
            "_view_name": "StyleView",
            "bar_color": null,
            "description_width": ""
          }
        },
        "f11644bdd31f4e28bf898a3a6ea4a4ca": {
          "model_module": "@jupyter-widgets/base",
          "model_name": "LayoutModel",
          "model_module_version": "1.2.0",
          "state": {
            "_model_module": "@jupyter-widgets/base",
            "_model_module_version": "1.2.0",
            "_model_name": "LayoutModel",
            "_view_count": null,
            "_view_module": "@jupyter-widgets/base",
            "_view_module_version": "1.2.0",
            "_view_name": "LayoutView",
            "align_content": null,
            "align_items": null,
            "align_self": null,
            "border": null,
            "bottom": null,
            "display": null,
            "flex": null,
            "flex_flow": null,
            "grid_area": null,
            "grid_auto_columns": null,
            "grid_auto_flow": null,
            "grid_auto_rows": null,
            "grid_column": null,
            "grid_gap": null,
            "grid_row": null,
            "grid_template_areas": null,
            "grid_template_columns": null,
            "grid_template_rows": null,
            "height": null,
            "justify_content": null,
            "justify_items": null,
            "left": null,
            "margin": null,
            "max_height": null,
            "max_width": null,
            "min_height": null,
            "min_width": null,
            "object_fit": null,
            "object_position": null,
            "order": null,
            "overflow": null,
            "overflow_x": null,
            "overflow_y": null,
            "padding": null,
            "right": null,
            "top": null,
            "visibility": null,
            "width": null
          }
        },
        "f9707bd2041d487fb34c3c06d52ffb48": {
          "model_module": "@jupyter-widgets/controls",
          "model_name": "DescriptionStyleModel",
          "model_module_version": "1.5.0",
          "state": {
            "_model_module": "@jupyter-widgets/controls",
            "_model_module_version": "1.5.0",
            "_model_name": "DescriptionStyleModel",
            "_view_count": null,
            "_view_module": "@jupyter-widgets/base",
            "_view_module_version": "1.2.0",
            "_view_name": "StyleView",
            "description_width": ""
          }
        },
        "556e82da29c34906ac8bb521542083a9": {
          "model_module": "@jupyter-widgets/controls",
          "model_name": "HBoxModel",
          "model_module_version": "1.5.0",
          "state": {
            "_dom_classes": [],
            "_model_module": "@jupyter-widgets/controls",
            "_model_module_version": "1.5.0",
            "_model_name": "HBoxModel",
            "_view_count": null,
            "_view_module": "@jupyter-widgets/controls",
            "_view_module_version": "1.5.0",
            "_view_name": "HBoxView",
            "box_style": "",
            "children": [
              "IPY_MODEL_9d50007d13df4665a00de86225b6af98",
              "IPY_MODEL_079affede4094cd788c6e2d8c20db3ce",
              "IPY_MODEL_0ee1bbeae0334deca9f23cbbb3c8ce13"
            ],
            "layout": "IPY_MODEL_09f4e1190a0f479e96db7e6ced30757b"
          }
        },
        "9d50007d13df4665a00de86225b6af98": {
          "model_module": "@jupyter-widgets/controls",
          "model_name": "HTMLModel",
          "model_module_version": "1.5.0",
          "state": {
            "_dom_classes": [],
            "_model_module": "@jupyter-widgets/controls",
            "_model_module_version": "1.5.0",
            "_model_name": "HTMLModel",
            "_view_count": null,
            "_view_module": "@jupyter-widgets/controls",
            "_view_module_version": "1.5.0",
            "_view_name": "HTMLView",
            "description": "",
            "description_tooltip": null,
            "layout": "IPY_MODEL_53d52bda546f45c68074f6c7c024c883",
            "placeholder": "​",
            "style": "IPY_MODEL_56165993880045b09b366fb4f91b7678",
            "value": "100%"
          }
        },
        "079affede4094cd788c6e2d8c20db3ce": {
          "model_module": "@jupyter-widgets/controls",
          "model_name": "FloatProgressModel",
          "model_module_version": "1.5.0",
          "state": {
            "_dom_classes": [],
            "_model_module": "@jupyter-widgets/controls",
            "_model_module_version": "1.5.0",
            "_model_name": "FloatProgressModel",
            "_view_count": null,
            "_view_module": "@jupyter-widgets/controls",
            "_view_module_version": "1.5.0",
            "_view_name": "ProgressView",
            "bar_style": "success",
            "description": "",
            "description_tooltip": null,
            "layout": "IPY_MODEL_035aa1873fb04b8299cdf489d1a3f785",
            "max": 2,
            "min": 0,
            "orientation": "horizontal",
            "style": "IPY_MODEL_a9998c5548c84716ad12b6deb56ec460",
            "value": 2
          }
        },
        "0ee1bbeae0334deca9f23cbbb3c8ce13": {
          "model_module": "@jupyter-widgets/controls",
          "model_name": "HTMLModel",
          "model_module_version": "1.5.0",
          "state": {
            "_dom_classes": [],
            "_model_module": "@jupyter-widgets/controls",
            "_model_module_version": "1.5.0",
            "_model_name": "HTMLModel",
            "_view_count": null,
            "_view_module": "@jupyter-widgets/controls",
            "_view_module_version": "1.5.0",
            "_view_name": "HTMLView",
            "description": "",
            "description_tooltip": null,
            "layout": "IPY_MODEL_b3fb5025ce6e451ba08ba4122257e366",
            "placeholder": "​",
            "style": "IPY_MODEL_8723011c92244b98993e2c38af0c409d",
            "value": " 2/2 [00:00&lt;00:00, 62.41it/s]"
          }
        },
        "09f4e1190a0f479e96db7e6ced30757b": {
          "model_module": "@jupyter-widgets/base",
          "model_name": "LayoutModel",
          "model_module_version": "1.2.0",
          "state": {
            "_model_module": "@jupyter-widgets/base",
            "_model_module_version": "1.2.0",
            "_model_name": "LayoutModel",
            "_view_count": null,
            "_view_module": "@jupyter-widgets/base",
            "_view_module_version": "1.2.0",
            "_view_name": "LayoutView",
            "align_content": null,
            "align_items": null,
            "align_self": null,
            "border": null,
            "bottom": null,
            "display": null,
            "flex": null,
            "flex_flow": null,
            "grid_area": null,
            "grid_auto_columns": null,
            "grid_auto_flow": null,
            "grid_auto_rows": null,
            "grid_column": null,
            "grid_gap": null,
            "grid_row": null,
            "grid_template_areas": null,
            "grid_template_columns": null,
            "grid_template_rows": null,
            "height": null,
            "justify_content": null,
            "justify_items": null,
            "left": null,
            "margin": null,
            "max_height": null,
            "max_width": null,
            "min_height": null,
            "min_width": null,
            "object_fit": null,
            "object_position": null,
            "order": null,
            "overflow": null,
            "overflow_x": null,
            "overflow_y": null,
            "padding": null,
            "right": null,
            "top": null,
            "visibility": null,
            "width": null
          }
        },
        "53d52bda546f45c68074f6c7c024c883": {
          "model_module": "@jupyter-widgets/base",
          "model_name": "LayoutModel",
          "model_module_version": "1.2.0",
          "state": {
            "_model_module": "@jupyter-widgets/base",
            "_model_module_version": "1.2.0",
            "_model_name": "LayoutModel",
            "_view_count": null,
            "_view_module": "@jupyter-widgets/base",
            "_view_module_version": "1.2.0",
            "_view_name": "LayoutView",
            "align_content": null,
            "align_items": null,
            "align_self": null,
            "border": null,
            "bottom": null,
            "display": null,
            "flex": null,
            "flex_flow": null,
            "grid_area": null,
            "grid_auto_columns": null,
            "grid_auto_flow": null,
            "grid_auto_rows": null,
            "grid_column": null,
            "grid_gap": null,
            "grid_row": null,
            "grid_template_areas": null,
            "grid_template_columns": null,
            "grid_template_rows": null,
            "height": null,
            "justify_content": null,
            "justify_items": null,
            "left": null,
            "margin": null,
            "max_height": null,
            "max_width": null,
            "min_height": null,
            "min_width": null,
            "object_fit": null,
            "object_position": null,
            "order": null,
            "overflow": null,
            "overflow_x": null,
            "overflow_y": null,
            "padding": null,
            "right": null,
            "top": null,
            "visibility": null,
            "width": null
          }
        },
        "56165993880045b09b366fb4f91b7678": {
          "model_module": "@jupyter-widgets/controls",
          "model_name": "DescriptionStyleModel",
          "model_module_version": "1.5.0",
          "state": {
            "_model_module": "@jupyter-widgets/controls",
            "_model_module_version": "1.5.0",
            "_model_name": "DescriptionStyleModel",
            "_view_count": null,
            "_view_module": "@jupyter-widgets/base",
            "_view_module_version": "1.2.0",
            "_view_name": "StyleView",
            "description_width": ""
          }
        },
        "035aa1873fb04b8299cdf489d1a3f785": {
          "model_module": "@jupyter-widgets/base",
          "model_name": "LayoutModel",
          "model_module_version": "1.2.0",
          "state": {
            "_model_module": "@jupyter-widgets/base",
            "_model_module_version": "1.2.0",
            "_model_name": "LayoutModel",
            "_view_count": null,
            "_view_module": "@jupyter-widgets/base",
            "_view_module_version": "1.2.0",
            "_view_name": "LayoutView",
            "align_content": null,
            "align_items": null,
            "align_self": null,
            "border": null,
            "bottom": null,
            "display": null,
            "flex": null,
            "flex_flow": null,
            "grid_area": null,
            "grid_auto_columns": null,
            "grid_auto_flow": null,
            "grid_auto_rows": null,
            "grid_column": null,
            "grid_gap": null,
            "grid_row": null,
            "grid_template_areas": null,
            "grid_template_columns": null,
            "grid_template_rows": null,
            "height": null,
            "justify_content": null,
            "justify_items": null,
            "left": null,
            "margin": null,
            "max_height": null,
            "max_width": null,
            "min_height": null,
            "min_width": null,
            "object_fit": null,
            "object_position": null,
            "order": null,
            "overflow": null,
            "overflow_x": null,
            "overflow_y": null,
            "padding": null,
            "right": null,
            "top": null,
            "visibility": null,
            "width": null
          }
        },
        "a9998c5548c84716ad12b6deb56ec460": {
          "model_module": "@jupyter-widgets/controls",
          "model_name": "ProgressStyleModel",
          "model_module_version": "1.5.0",
          "state": {
            "_model_module": "@jupyter-widgets/controls",
            "_model_module_version": "1.5.0",
            "_model_name": "ProgressStyleModel",
            "_view_count": null,
            "_view_module": "@jupyter-widgets/base",
            "_view_module_version": "1.2.0",
            "_view_name": "StyleView",
            "bar_color": null,
            "description_width": ""
          }
        },
        "b3fb5025ce6e451ba08ba4122257e366": {
          "model_module": "@jupyter-widgets/base",
          "model_name": "LayoutModel",
          "model_module_version": "1.2.0",
          "state": {
            "_model_module": "@jupyter-widgets/base",
            "_model_module_version": "1.2.0",
            "_model_name": "LayoutModel",
            "_view_count": null,
            "_view_module": "@jupyter-widgets/base",
            "_view_module_version": "1.2.0",
            "_view_name": "LayoutView",
            "align_content": null,
            "align_items": null,
            "align_self": null,
            "border": null,
            "bottom": null,
            "display": null,
            "flex": null,
            "flex_flow": null,
            "grid_area": null,
            "grid_auto_columns": null,
            "grid_auto_flow": null,
            "grid_auto_rows": null,
            "grid_column": null,
            "grid_gap": null,
            "grid_row": null,
            "grid_template_areas": null,
            "grid_template_columns": null,
            "grid_template_rows": null,
            "height": null,
            "justify_content": null,
            "justify_items": null,
            "left": null,
            "margin": null,
            "max_height": null,
            "max_width": null,
            "min_height": null,
            "min_width": null,
            "object_fit": null,
            "object_position": null,
            "order": null,
            "overflow": null,
            "overflow_x": null,
            "overflow_y": null,
            "padding": null,
            "right": null,
            "top": null,
            "visibility": null,
            "width": null
          }
        },
        "8723011c92244b98993e2c38af0c409d": {
          "model_module": "@jupyter-widgets/controls",
          "model_name": "DescriptionStyleModel",
          "model_module_version": "1.5.0",
          "state": {
            "_model_module": "@jupyter-widgets/controls",
            "_model_module_version": "1.5.0",
            "_model_name": "DescriptionStyleModel",
            "_view_count": null,
            "_view_module": "@jupyter-widgets/base",
            "_view_module_version": "1.2.0",
            "_view_name": "StyleView",
            "description_width": ""
          }
        },
        "0ae75bbd31ee481e948ddb841da10c77": {
          "model_module": "@jupyter-widgets/controls",
          "model_name": "HBoxModel",
          "model_module_version": "1.5.0",
          "state": {
            "_dom_classes": [],
            "_model_module": "@jupyter-widgets/controls",
            "_model_module_version": "1.5.0",
            "_model_name": "HBoxModel",
            "_view_count": null,
            "_view_module": "@jupyter-widgets/controls",
            "_view_module_version": "1.5.0",
            "_view_name": "HBoxView",
            "box_style": "",
            "children": [
              "IPY_MODEL_4d735c91b3014c54b65f1d4ce54c52bb",
              "IPY_MODEL_51fc488a3e7841f48289b1ac1202efc8",
              "IPY_MODEL_0f0a6da7943a4870b108775aaf66f062"
            ],
            "layout": "IPY_MODEL_53da3a096337495faac8c2c5f0eb8dbf"
          }
        },
        "4d735c91b3014c54b65f1d4ce54c52bb": {
          "model_module": "@jupyter-widgets/controls",
          "model_name": "HTMLModel",
          "model_module_version": "1.5.0",
          "state": {
            "_dom_classes": [],
            "_model_module": "@jupyter-widgets/controls",
            "_model_module_version": "1.5.0",
            "_model_name": "HTMLModel",
            "_view_count": null,
            "_view_module": "@jupyter-widgets/controls",
            "_view_module_version": "1.5.0",
            "_view_name": "HTMLView",
            "description": "",
            "description_tooltip": null,
            "layout": "IPY_MODEL_7cb817d7328342ec8446e6e917d1827f",
            "placeholder": "​",
            "style": "IPY_MODEL_19ce1a77dc074e5a80d92e5f9983b116",
            "value": "100%"
          }
        },
        "51fc488a3e7841f48289b1ac1202efc8": {
          "model_module": "@jupyter-widgets/controls",
          "model_name": "FloatProgressModel",
          "model_module_version": "1.5.0",
          "state": {
            "_dom_classes": [],
            "_model_module": "@jupyter-widgets/controls",
            "_model_module_version": "1.5.0",
            "_model_name": "FloatProgressModel",
            "_view_count": null,
            "_view_module": "@jupyter-widgets/controls",
            "_view_module_version": "1.5.0",
            "_view_name": "ProgressView",
            "bar_style": "success",
            "description": "",
            "description_tooltip": null,
            "layout": "IPY_MODEL_8bc10b64b0ab49d7aab8c908635d4dde",
            "max": 1,
            "min": 0,
            "orientation": "horizontal",
            "style": "IPY_MODEL_491058b4e5a4454b9b00e044d4637947",
            "value": 1
          }
        },
        "0f0a6da7943a4870b108775aaf66f062": {
          "model_module": "@jupyter-widgets/controls",
          "model_name": "HTMLModel",
          "model_module_version": "1.5.0",
          "state": {
            "_dom_classes": [],
            "_model_module": "@jupyter-widgets/controls",
            "_model_module_version": "1.5.0",
            "_model_name": "HTMLModel",
            "_view_count": null,
            "_view_module": "@jupyter-widgets/controls",
            "_view_module_version": "1.5.0",
            "_view_name": "HTMLView",
            "description": "",
            "description_tooltip": null,
            "layout": "IPY_MODEL_eda29c365f204141a7712fd69078bc65",
            "placeholder": "​",
            "style": "IPY_MODEL_9c2d1f8dd3444ad4bb99169980ce4104",
            "value": " 1/1 [00:00&lt;00:00, 33.14it/s]"
          }
        },
        "53da3a096337495faac8c2c5f0eb8dbf": {
          "model_module": "@jupyter-widgets/base",
          "model_name": "LayoutModel",
          "model_module_version": "1.2.0",
          "state": {
            "_model_module": "@jupyter-widgets/base",
            "_model_module_version": "1.2.0",
            "_model_name": "LayoutModel",
            "_view_count": null,
            "_view_module": "@jupyter-widgets/base",
            "_view_module_version": "1.2.0",
            "_view_name": "LayoutView",
            "align_content": null,
            "align_items": null,
            "align_self": null,
            "border": null,
            "bottom": null,
            "display": null,
            "flex": null,
            "flex_flow": null,
            "grid_area": null,
            "grid_auto_columns": null,
            "grid_auto_flow": null,
            "grid_auto_rows": null,
            "grid_column": null,
            "grid_gap": null,
            "grid_row": null,
            "grid_template_areas": null,
            "grid_template_columns": null,
            "grid_template_rows": null,
            "height": null,
            "justify_content": null,
            "justify_items": null,
            "left": null,
            "margin": null,
            "max_height": null,
            "max_width": null,
            "min_height": null,
            "min_width": null,
            "object_fit": null,
            "object_position": null,
            "order": null,
            "overflow": null,
            "overflow_x": null,
            "overflow_y": null,
            "padding": null,
            "right": null,
            "top": null,
            "visibility": null,
            "width": null
          }
        },
        "7cb817d7328342ec8446e6e917d1827f": {
          "model_module": "@jupyter-widgets/base",
          "model_name": "LayoutModel",
          "model_module_version": "1.2.0",
          "state": {
            "_model_module": "@jupyter-widgets/base",
            "_model_module_version": "1.2.0",
            "_model_name": "LayoutModel",
            "_view_count": null,
            "_view_module": "@jupyter-widgets/base",
            "_view_module_version": "1.2.0",
            "_view_name": "LayoutView",
            "align_content": null,
            "align_items": null,
            "align_self": null,
            "border": null,
            "bottom": null,
            "display": null,
            "flex": null,
            "flex_flow": null,
            "grid_area": null,
            "grid_auto_columns": null,
            "grid_auto_flow": null,
            "grid_auto_rows": null,
            "grid_column": null,
            "grid_gap": null,
            "grid_row": null,
            "grid_template_areas": null,
            "grid_template_columns": null,
            "grid_template_rows": null,
            "height": null,
            "justify_content": null,
            "justify_items": null,
            "left": null,
            "margin": null,
            "max_height": null,
            "max_width": null,
            "min_height": null,
            "min_width": null,
            "object_fit": null,
            "object_position": null,
            "order": null,
            "overflow": null,
            "overflow_x": null,
            "overflow_y": null,
            "padding": null,
            "right": null,
            "top": null,
            "visibility": null,
            "width": null
          }
        },
        "19ce1a77dc074e5a80d92e5f9983b116": {
          "model_module": "@jupyter-widgets/controls",
          "model_name": "DescriptionStyleModel",
          "model_module_version": "1.5.0",
          "state": {
            "_model_module": "@jupyter-widgets/controls",
            "_model_module_version": "1.5.0",
            "_model_name": "DescriptionStyleModel",
            "_view_count": null,
            "_view_module": "@jupyter-widgets/base",
            "_view_module_version": "1.2.0",
            "_view_name": "StyleView",
            "description_width": ""
          }
        },
        "8bc10b64b0ab49d7aab8c908635d4dde": {
          "model_module": "@jupyter-widgets/base",
          "model_name": "LayoutModel",
          "model_module_version": "1.2.0",
          "state": {
            "_model_module": "@jupyter-widgets/base",
            "_model_module_version": "1.2.0",
            "_model_name": "LayoutModel",
            "_view_count": null,
            "_view_module": "@jupyter-widgets/base",
            "_view_module_version": "1.2.0",
            "_view_name": "LayoutView",
            "align_content": null,
            "align_items": null,
            "align_self": null,
            "border": null,
            "bottom": null,
            "display": null,
            "flex": null,
            "flex_flow": null,
            "grid_area": null,
            "grid_auto_columns": null,
            "grid_auto_flow": null,
            "grid_auto_rows": null,
            "grid_column": null,
            "grid_gap": null,
            "grid_row": null,
            "grid_template_areas": null,
            "grid_template_columns": null,
            "grid_template_rows": null,
            "height": null,
            "justify_content": null,
            "justify_items": null,
            "left": null,
            "margin": null,
            "max_height": null,
            "max_width": null,
            "min_height": null,
            "min_width": null,
            "object_fit": null,
            "object_position": null,
            "order": null,
            "overflow": null,
            "overflow_x": null,
            "overflow_y": null,
            "padding": null,
            "right": null,
            "top": null,
            "visibility": null,
            "width": null
          }
        },
        "491058b4e5a4454b9b00e044d4637947": {
          "model_module": "@jupyter-widgets/controls",
          "model_name": "ProgressStyleModel",
          "model_module_version": "1.5.0",
          "state": {
            "_model_module": "@jupyter-widgets/controls",
            "_model_module_version": "1.5.0",
            "_model_name": "ProgressStyleModel",
            "_view_count": null,
            "_view_module": "@jupyter-widgets/base",
            "_view_module_version": "1.2.0",
            "_view_name": "StyleView",
            "bar_color": null,
            "description_width": ""
          }
        },
        "eda29c365f204141a7712fd69078bc65": {
          "model_module": "@jupyter-widgets/base",
          "model_name": "LayoutModel",
          "model_module_version": "1.2.0",
          "state": {
            "_model_module": "@jupyter-widgets/base",
            "_model_module_version": "1.2.0",
            "_model_name": "LayoutModel",
            "_view_count": null,
            "_view_module": "@jupyter-widgets/base",
            "_view_module_version": "1.2.0",
            "_view_name": "LayoutView",
            "align_content": null,
            "align_items": null,
            "align_self": null,
            "border": null,
            "bottom": null,
            "display": null,
            "flex": null,
            "flex_flow": null,
            "grid_area": null,
            "grid_auto_columns": null,
            "grid_auto_flow": null,
            "grid_auto_rows": null,
            "grid_column": null,
            "grid_gap": null,
            "grid_row": null,
            "grid_template_areas": null,
            "grid_template_columns": null,
            "grid_template_rows": null,
            "height": null,
            "justify_content": null,
            "justify_items": null,
            "left": null,
            "margin": null,
            "max_height": null,
            "max_width": null,
            "min_height": null,
            "min_width": null,
            "object_fit": null,
            "object_position": null,
            "order": null,
            "overflow": null,
            "overflow_x": null,
            "overflow_y": null,
            "padding": null,
            "right": null,
            "top": null,
            "visibility": null,
            "width": null
          }
        },
        "9c2d1f8dd3444ad4bb99169980ce4104": {
          "model_module": "@jupyter-widgets/controls",
          "model_name": "DescriptionStyleModel",
          "model_module_version": "1.5.0",
          "state": {
            "_model_module": "@jupyter-widgets/controls",
            "_model_module_version": "1.5.0",
            "_model_name": "DescriptionStyleModel",
            "_view_count": null,
            "_view_module": "@jupyter-widgets/base",
            "_view_module_version": "1.2.0",
            "_view_name": "StyleView",
            "description_width": ""
          }
        }
      }
    }
  },
  "cells": [
    {
      "cell_type": "code",
      "execution_count": 171,
      "metadata": {
        "id": "LWG2rhPCpI-a",
        "colab": {
          "base_uri": "https://localhost:8080/"
        },
        "outputId": "5c3a40f0-5eed-486b-fd08-de031050e881"
      },
      "outputs": [
        {
          "output_type": "stream",
          "name": "stdout",
          "text": [
            "The autoreload extension is already loaded. To reload it, use:\n",
            "  %reload_ext autoreload\n"
          ]
        }
      ],
      "source": [
        "%load_ext autoreload\n",
        "%autoreload 2"
      ]
    },
    {
      "cell_type": "code",
      "source": [
        "import os\n",
        "import sys\n",
        "\n",
        "from google.colab import drive\n",
        "drive.mount('/content/drive')\n",
        "PROJECT_ROOT = '/content/drive/My Drive/d2d_channelprediction'\n",
        "%mkdir '/content/drive/My Drive/d2d_channelprediction' -p\n",
        "%cd '/content/drive/My Drive/d2d_channelprediction'\n",
        "DATASETS_PATH = \"data\"\n",
        "WORKING_PATH = \".\"\n",
        "%mkdir $DATASETS_PATH -p\n",
        "\n",
        "LOGDIR = f\"{WORKING_PATH}/logs\"\n",
        "MODEL_VERSION = 'TEST'"
      ],
      "metadata": {
        "colab": {
          "base_uri": "https://localhost:8080/"
        },
        "id": "17WKsbqHpPN1",
        "outputId": "29832194-7246-4afd-c49e-6df1ade0a6c4"
      },
      "execution_count": 172,
      "outputs": [
        {
          "output_type": "stream",
          "name": "stdout",
          "text": [
            "Drive already mounted at /content/drive; to attempt to forcibly remount, call drive.mount(\"/content/drive\", force_remount=True).\n",
            "/content/drive/My Drive/d2d_channelprediction\n"
          ]
        }
      ]
    },
    {
      "cell_type": "code",
      "source": [
        "import numpy as np\n",
        "import pandas as pd\n",
        "import tensorflow as tf\n",
        "from typing import Dict, NamedTuple, Union\n",
        "from tqdm.notebook import tqdm\n",
        "import logging\n",
        "from matplotlib import pyplot as plt\n",
        "import time\n",
        "from itertools import product\n",
        "import gc\n",
        "import pathlib\n",
        "from glob import glob\n",
        "import pdb\n",
        "\n",
        "from dateutil.relativedelta import relativedelta"
      ],
      "metadata": {
        "id": "9uEGTaMIptWh"
      },
      "execution_count": 183,
      "outputs": []
    },
    {
      "cell_type": "code",
      "source": [
        "class DataLoader:\n",
        "  def __init__(self, path=\"data/\", split='train'):\n",
        "    self.path = path\n",
        "    self.split = split\n",
        "    ts_raw = pd.read_csv(os.path.join(path,f'{split}_d2d.csv')).iloc[:,1:].values.astype(np.float32)\n",
        "    self.ts_raw = []\n",
        "    \n",
        "    for ts in ts_raw:\n",
        "      self.ts_raw.append(ts[~np.isnan(ts)])\n",
        "\n",
        "\n",
        "    self.ts_weight = np.zeros((len(self.ts_raw),), dtype=np.float32)\n",
        "    for i,ts in enumerate(self.ts_raw):\n",
        "      self.ts_weight[i] = len(ts)\n",
        "    self.ts_weight = self.ts_weight / self.ts_weight.sum()\n",
        "\n",
        "  def get_batch(self, batch_size=264, win_len=14*2, horizon=12, ts_sampling='uniform'):\n",
        "  \n",
        "    target_ts = np.zeros((batch_size, horizon), dtype=np.float32)\n",
        "    history_ts = np.zeros((batch_size, win_len), dtype=np.float32)\n",
        "\n",
        "    if ts_sampling == \"uniform\":\n",
        "        ts_idxs = np.random.choice(np.arange(len(self.ts_raw)), size=batch_size, replace=True)\n",
        "    elif ts_sampling == \"ts_weight\":\n",
        "        ts_idxs = np.random.choice(np.arange(len(self.ts_raw)), size=batch_size, replace=True, p=self.ts_weight)\n",
        "        \n",
        "    for i, ts_id in enumerate(ts_idxs):\n",
        "        ts = self.ts_raw[ts_id]\n",
        "        sampling_point = np.random.choice(np.arange(win_len, len(ts)-horizon+1), size=1, replace=False)[0]\n",
        "        history_ts[i,:] = ts[sampling_point-win_len:sampling_point]\n",
        "        target_ts[i,:] = ts[sampling_point:sampling_point+horizon]\n",
        "\n",
        "    batch = {\"history\": history_ts, \"target\": target_ts}\n",
        "    return batch\n",
        "\n",
        "  def get_sequential_batch(self, win_len=14*2):\n",
        "    history_ts = np.zeros((len(self.ts_raw), win_len), dtype=np.float32)\n",
        "    for i, ts in enumerate(self.ts_raw):\n",
        "        history_ts[i,:] = ts[-win_len:]\n",
        "    return {\"history\": history_ts}\n",
        "\n",
        "train_dataset = DataLoader(path='data', split='train')\n",
        "test_dataset = DataLoader(path='data', split='test')"
      ],
      "metadata": {
        "id": "Ov4MYJfWp9BB"
      },
      "execution_count": 184,
      "outputs": []
    },
    {
      "cell_type": "code",
      "source": [
        "win_len=12*2\n",
        "batch = train_dataset.get_batch(win_len=win_len, batch_size = 64)\n",
        "\n",
        "plt.plot(batch[\"history\"][0])\n",
        "plt.plot(np.concatenate([np.nan*np.zeros((win_len,)), batch[\"target\"][0]]))"
      ],
      "metadata": {
        "colab": {
          "base_uri": "https://localhost:8080/",
          "height": 283
        },
        "id": "urLGszpbFoq8",
        "outputId": "2e6bed26-4509-4120-98ed-3b6480cf92f1"
      },
      "execution_count": 185,
      "outputs": [
        {
          "output_type": "execute_result",
          "data": {
            "text/plain": [
              "[<matplotlib.lines.Line2D at 0x7f741cd7e2d0>]"
            ]
          },
          "metadata": {},
          "execution_count": 185
        },
        {
          "output_type": "display_data",
          "data": {
            "text/plain": [
              "<Figure size 432x288 with 1 Axes>"
            ],
            "image/png": "[encoded data removed]"
          },
          "metadata": {
            "needs_background": "light"
          }
        }
      ]
    },
    {
      "cell_type": "code",
      "source": [
        "batch = train_dataset.get_sequential_batch()\n",
        "id = 0\n",
        "nsamples = 50\n",
        "\n",
        "plt.plot(train_dataset.ts_raw[id][-nsamples:])\n",
        "plt.plot(np.concatenate([np.nan*np.zeros((nsamples,)), test_dataset.ts_raw[id]]))"
      ],
      "metadata": {
        "colab": {
          "base_uri": "https://localhost:8080/",
          "height": 283
        },
        "id": "DszIXP70FQCI",
        "outputId": "efc24192-d59e-443d-db6a-1a6523f9b3a9"
      },
      "execution_count": 210,
      "outputs": [
        {
          "output_type": "execute_result",
          "data": {
            "text/plain": [
              "[<matplotlib.lines.Line2D at 0x7f73f60ce810>]"
            ]
          },
          "metadata": {},
          "execution_count": 210
        },
        {
          "output_type": "display_data",
          "data": {
            "text/plain": [
              "<Figure size 432x288 with 1 Axes>"
            ],
            "image/png": "[encoded data removed]"
          },
          "metadata": {
            "needs_background": "light"
          }
        }
      ]
    },
    {
      "cell_type": "code",
      "source": [
        "class Parameters(NamedTuple):\n",
        "    split: int\n",
        "    repeat: int\n",
        "    epochs: int\n",
        "    steps_per_epoch: int\n",
        "    block_layers: int\n",
        "    hidden_units: int\n",
        "    num_blocks: int\n",
        "    block_sharing: bool\n",
        "    horizon: int\n",
        "    history_lookback: int\n",
        "    init_learning_rate: float\n",
        "    decay_steps: int\n",
        "    decay_rate: float\n",
        "    loss: str\n",
        "    pinball_tau: float\n",
        "    batch_size: int\n",
        "    weight_decay: float\n",
        "    ts_sampling: str\n",
        "        \n",
        "hyperparams_dict = {\n",
        "    \"split\": 1, # 0 is test split, 1 is validation split\n",
        "    \"repeat\": list(range(0, 1)),\n",
        "    \"epochs\": 20, \n",
        "    \"steps_per_epoch\": [50], \n",
        "    \"block_layers\": [3],\n",
        "    \"hidden_units\": 512,\n",
        "    \"num_blocks\": 3,\n",
        "    \"block_sharing\": True, # [True, False]\n",
        "    \"horizon\": 12,\n",
        "    \"history_lookback\": 2,\n",
        "    \"init_learning_rate\": 1e-3,\n",
        "    \"decay_steps\": 3,\n",
        "    \"decay_rate\": 0.5,\n",
        "    \"loss\": [\"pinball\", \"pmape\"], # [\"pinball\", \"mape\", \"smape\", \"pmape\"]\n",
        "    \"pinball_tau\": [0.35], # This is selected to minimize the bias on the validation set\n",
        "    \"batch_size\": 256,\n",
        "    \"weight_decay\": 0,\n",
        "    \"ts_sampling\": [\"ts_weight\"], # [\"uniform\", \"ts_weight\"]\n",
        "}\n",
        "\n",
        "HORIZON = 12\n",
        "\n",
        "hyperparams = Parameters(**hyperparams_dict)"
      ],
      "metadata": {
        "id": "MLkKes8MmLZ_"
      },
      "execution_count": 295,
      "outputs": []
    },
    {
      "cell_type": "code",
      "source": [
        "class NBeatsBlock(tf.keras.layers.Layer):\n",
        "    def __init__(self, hyperparams: Parameters, input_size:int, output_size:int, **kw):\n",
        "        super(NBeatsBlock, self).__init__(**kw)\n",
        "        self.hyperparams = hyperparams\n",
        "        self.input_size = input_size\n",
        "        self.output_size = output_size\n",
        "        self.fc_layers = []\n",
        "        for i in range(hyperparams.block_layers):\n",
        "            self.fc_layers.append(\n",
        "                tf.keras.layers.Dense(hyperparams.hidden_units, \n",
        "                                      activation=tf.nn.relu,\n",
        "                                      kernel_regularizer=tf.keras.regularizers.l2(hyperparams.weight_decay),\n",
        "                                      name=f\"fc_{i}\")\n",
        "            )\n",
        "        self.forecast = tf.keras.layers.Dense(output_size, activation=None, name=\"forecast\")\n",
        "        self.backcast = tf.keras.layers.Dense(self.input_size, activation=None, name=\"backcast\")        \n",
        "        \n",
        "    def call(self, inputs, training=False):\n",
        "        h = self.fc_layers[0](inputs)\n",
        "        for i in range(1, self.hyperparams.block_layers):\n",
        "            h = self.fc_layers[i](h)\n",
        "        backcast = tf.keras.activations.relu(inputs - self.backcast(h))\n",
        "\n",
        "        return backcast, self.forecast(h)"
      ],
      "metadata": {
        "id": "YopBIDYqFke0"
      },
      "execution_count": 296,
      "outputs": []
    },
    {
      "cell_type": "code",
      "source": [
        "class NBeats:\n",
        "    def __init__(self, hyperparams: Parameters, name: str='NBeats', logdir: str='logs', num_nodes: int = 100):\n",
        "        super(NBeats, self).__init__()\n",
        "        self.hyperparams = hyperparams\n",
        "        self.name=name\n",
        "        self.logdir=logdir\n",
        "        self.num_nodes = num_nodes\n",
        "        self.input_size = self.hyperparams.history_lookback*self.hyperparams.horizon\n",
        "\n",
        "        self.nbeats_layers = []\n",
        "        self.nbeats_layers.append(NBeatsBlock(hyperparams=hyperparams,\n",
        "                                                  input_size=self.input_size, \n",
        "                                                  output_size=hyperparams.horizon, \n",
        "                                                  name=f\"nbeats_{0}\")\n",
        "                                      )\n",
        "        for i in range(1, hyperparams.num_blocks):\n",
        "            if self.hyperparams.block_sharing:\n",
        "                self.nbeats_layers.append(self.nbeats_layers[0])\n",
        "            else:\n",
        "                self.nbeats_layers.append(NBeatsBlock(hyperparams=hyperparams,\n",
        "                                                    input_size=self.input_size, \n",
        "                                                    output_size=hyperparams.horizon, \n",
        "                                                    name=f\"nbeats_{i}\")\n",
        "                                        )\n",
        "\n",
        "        inputs, outputs = self.get_model()\n",
        "        model = tf.keras.Model(inputs=inputs, outputs=outputs, name=name)\n",
        "        self.inputs = inputs\n",
        "        self.inputs = outputs\n",
        "        self.model = model\n",
        "                \n",
        "    def get_model(self):\n",
        "        history_in = tf.keras.layers.Input(shape=(self.hyperparams.history_lookback*self.hyperparams.horizon,), name='history')\n",
        "\n",
        "        level = tf.reduce_max(history_in, axis=-1, keepdims=True)\n",
        "        history_delevel = tf.math.divide_no_nan(history_in, level)\n",
        "\n",
        "        backcast, forecast = self.nbeats_layers[0](inputs=history_delevel)\n",
        "        for nb in self.nbeats_layers[1:]:\n",
        "            backcast, forecast_layer = nb(inputs=backcast)\n",
        "            forecast = forecast + forecast_layer\n",
        "\n",
        "        forecast = forecast * level \n",
        "\n",
        "        inputs = {'history': history_in} \n",
        "        outputs = {'target': forecast}\n",
        "        return inputs, outputs\n",
        "\n",
        "    def forecast(self, train_dataset):\n",
        "        input_data = train_dataset.get_sequential_batch(win_len=self.hyperparams.horizon*self.hyperparams.history_lookback)\n",
        "        return self.model.predict({\"history\": input_data[\"history\"]})['target']"
      ],
      "metadata": {
        "id": "y0KAXTFJmHXf"
      },
      "execution_count": 297,
      "outputs": []
    },
    {
      "cell_type": "code",
      "source": [
        "def smape(labels, preds):\n",
        "  weights = tf.stop_gradient(\n",
        "    tf.math.divide_no_nan(2.0, (tf.abs(preds) + tf.abs(labels))))\n",
        "  return tf.reduce_mean(tf.abs(preds - labels) * weights)\n",
        "\n",
        "def mape(labels, preds):\n",
        "  weights = tf.math.divide_no_nan(1.0, tf.abs(labels))\n",
        "  return tf.reduce_mean(tf.abs(preds - labels) * weights)\n",
        "\n",
        "def get_pmape_loss(tau):\n",
        "  def pmape_loss(labels, preds):\n",
        "    weights = tf.math.divide_no_nan(1.0, tf.abs(labels))\n",
        "    pinball = tf.where(labels > preds,\n",
        "                        x=tau*(labels - preds), \n",
        "                        y=(1-tau)*(preds-labels))\n",
        "    return tf.reduce_mean(pinball * weights)\n",
        "  return pmape_loss\n",
        "\n",
        "def get_pinball_loss(tau):\n",
        "  def pinball_loss(labels, preds):\n",
        "    pinball = tf.where(labels > preds,\n",
        "                        x=tau*(labels - preds), \n",
        "                        y=(1-tau)*(preds-labels))\n",
        "    return tf.reduce_mean(pinball)\n",
        "  return pinball_loss\n",
        "\n",
        "def rmse(labels, preds):\n",
        "  return tf.sqrt(tf.reduce_mean((preds - labels)**2))\n",
        "\n",
        "def mae(labels, preds):\n",
        "  return tf.reduce_mean(tf.abs(preds - labels))\n",
        "\n",
        "\n",
        "class MetricsCallback(tf.keras.callbacks.Callback):\n",
        "    def __init__(self, train_dataset, test_dataset, hyperparams):\n",
        "        super().__init__()\n",
        "        self.input_data = train_dataset.get_sequential_batch(win_len=hyperparams.horizon*hyperparams.history_lookback)\n",
        "        self.target = np.array(test_dataset.ts_raw)\n",
        "\n",
        "    def on_train_begin(self, logs={}):\n",
        "        pass    \n",
        "\n",
        "    def on_epoch_end(self, epoch, logs={}):\n",
        "        prediction_test = self.model.predict({\"history\": self.input_data[\"history\"]})\n",
        "        logs['smape_test'] = smape(preds=prediction_test['target'], labels=self.target)\n",
        "        logs['mape_test'] = mape(preds=prediction_test['target'], labels=self.target)\n",
        "\n",
        "class Trainer:\n",
        "    def __init__(self, hyperparams: Parameters, logdir: str):\n",
        "        inp = dict(hyperparams._asdict())\n",
        "        values = [v if isinstance(v, list) else [v] for v in inp.values()]\n",
        "        self.hyperparams = [Parameters(**dict(zip(inp.keys(), v))) for v in product(*values)]\n",
        "        inp_lists = {k: v  for k, v in inp.items() if isinstance(v, list)}\n",
        "        values = [v for v in inp_lists.values()]\n",
        "        variable_values = [dict(zip(inp_lists.keys(), v)) for v in product(*values)]\n",
        "        folder_names = []\n",
        "        for d in variable_values: \n",
        "            folder_names.append(\n",
        "                ';'.join(['%s=%s' % (key, value) for (key, value) in d.items()])\n",
        "            )\n",
        "        self.history = []\n",
        "        self.forecasts = []\n",
        "        self.models = []\n",
        "        self.logdir = logdir\n",
        "        self.folder_names = folder_names\n",
        "        for i, h in enumerate(self.hyperparams): \n",
        "            self.models.append(NBeats(hyperparams=h, name=f\"nbeats_model_{i}\", \n",
        "                                      logdir=os.path.join(self.logdir, folder_names[i])))\n",
        "            \n",
        "    def generator(self, ds, hyperparams: Parameters):\n",
        "        while True:\n",
        "            batch = ds.get_batch(batch_size=hyperparams.batch_size, \n",
        "                                 win_len=hyperparams.horizon*hyperparams.history_lookback, \n",
        "                                 horizon=hyperparams.horizon,\n",
        "                                 ts_sampling=hyperparams.ts_sampling)\n",
        "\n",
        "            yield  {\"history\": batch[\"history\"]}, {\"target\": batch[\"target\"]}\n",
        "\n",
        "    def save_forecast(self, forecast: np.ndarray, filename: str = \"forecast.npy\"):\n",
        "        np.save(f\"{WORKING_PATH}/{filename}\", forecast)\n",
        "                            \n",
        "    def fit(self, train_dataset, test_dataset, verbose=1):\n",
        "        for i, hyperparams in enumerate(self.hyperparams):\n",
        "            if verbose > 0:\n",
        "                print(f\"Fitting model {i+1} out of {len(self.hyperparams)}, {self.folder_names[i]}\")\n",
        "\n",
        "            path = f\"results/{MODEL_VERSION}_split{self.models[i].hyperparams.split}/\"\n",
        "            pathlib.Path(f\"{WORKING_PATH}/{path}\").mkdir(parents=True, exist_ok=True)\n",
        "            filename = os.path.join(path, self.folder_names[i]+'.npy')\n",
        "            if os.path.exists(f\"{WORKING_PATH}/{filename}\"):\n",
        "                continue\n",
        "            \n",
        "            boundary_step = hyperparams.epochs // 10\n",
        "            boundary_start = hyperparams.epochs - boundary_step*hyperparams.decay_steps - 1\n",
        "            \n",
        "            boundaries = list(range(boundary_start, hyperparams.epochs, boundary_step))\n",
        "            values = list(hyperparams.init_learning_rate * hyperparams.decay_rate ** np.arange(0, len(boundaries)+1))\n",
        "            scheduler = tf.keras.optimizers.schedules.PiecewiseConstantDecay(boundaries=boundaries, values=values)\n",
        "            \n",
        "            lr = tf.keras.callbacks.LearningRateScheduler(scheduler, verbose=0)\n",
        "\n",
        "            metrics = MetricsCallback(train_dataset=train_dataset, test_dataset=test_dataset, hyperparams=hyperparams)\n",
        "            # tb = tf.keras.callbacks.TensorBoard(log_dir=self.models[i].logdir, embeddings_freq=10)\n",
        "\n",
        "            if hyperparams.loss == 'smape':\n",
        "                loss = smape\n",
        "            elif hyperparams.loss == 'mape':\n",
        "                loss = mape\n",
        "            elif hyperparams.loss == 'mae':\n",
        "                loss = mae\n",
        "            elif hyperparams.loss == 'pmape':\n",
        "                loss = get_pmape_loss(hyperparams.pinball_tau)\n",
        "            elif hyperparams.loss == 'pinball':\n",
        "                loss = get_pinball_loss(hyperparams.pinball_tau)\n",
        "            \n",
        "            self.models[i].model.compile(optimizer=tf.keras.optimizers.Adam(),\n",
        "                                         loss=loss)\n",
        "                                    \n",
        "            fit_output = self.models[i].model.fit(self.generator(ds=train_dataset, hyperparams=hyperparams),\n",
        "                                            callbacks=[lr, metrics], # tb\n",
        "                                            epochs=hyperparams.epochs, \n",
        "                                            steps_per_epoch=hyperparams.steps_per_epoch, \n",
        "                                            verbose=verbose)\n",
        "            self.history.append(fit_output.history)\n",
        "\n",
        "            model_forecast = self.models[i].forecast(train_dataset)\n",
        "            self.save_forecast(forecast=model_forecast, filename=filename)\n"
      ],
      "metadata": {
        "id": "jqpOzZPHmP4K"
      },
      "execution_count": 298,
      "outputs": []
    },
    {
      "cell_type": "code",
      "source": [
        "trainer = Trainer(hyperparams=hyperparams, logdir=LOGDIR)\n",
        "trainer.fit(train_dataset=train_dataset, test_dataset=test_dataset)"
      ],
      "metadata": {
        "colab": {
          "base_uri": "https://localhost:8080/"
        },
        "id": "EY9164A-mYn5",
        "outputId": "e2e4e5ec-904c-49d2-ea09-7d041c4b333c"
      },
      "execution_count": 299,
      "outputs": [
        {
          "output_type": "stream",
          "name": "stdout",
          "text": [
            "Fitting model 1 out of 2, repeat=0;steps_per_epoch=50;block_layers=3;loss=pinball;pinball_tau=0.35;ts_sampling=ts_weight\n",
            "Epoch 1/20\n",
            "50/50 [==============================] - 6s 105ms/step - loss: 0.3584 - lr: 0.0010 - smape_test: 1.3547 - mape_test: 5.4649\n",
            "Epoch 2/20\n",
            "50/50 [==============================] - 5s 101ms/step - loss: 0.2831 - lr: 0.0010 - smape_test: 1.4648 - mape_test: 5.2328\n",
            "Epoch 3/20\n",
            "50/50 [==============================] - 5s 101ms/step - loss: 0.2683 - lr: 0.0010 - smape_test: 1.4504 - mape_test: 3.6684\n",
            "Epoch 4/20\n",
            "50/50 [==============================] - 5s 102ms/step - loss: 0.2544 - lr: 0.0010 - smape_test: 1.4477 - mape_test: 4.0627\n",
            "Epoch 5/20\n",
            "50/50 [==============================] - 5s 102ms/step - loss: 0.2555 - lr: 0.0010 - smape_test: 1.3762 - mape_test: 4.4402\n",
            "Epoch 6/20\n",
            "50/50 [==============================] - 5s 102ms/step - loss: 0.2603 - lr: 0.0010 - smape_test: 1.4437 - mape_test: 4.5041\n",
            "Epoch 7/20\n",
            "50/50 [==============================] - 5s 102ms/step - loss: 0.2497 - lr: 0.0010 - smape_test: 1.4250 - mape_test: 5.2854\n",
            "Epoch 8/20\n",
            "50/50 [==============================] - 5s 102ms/step - loss: 0.2428 - lr: 0.0010 - smape_test: 1.3133 - mape_test: 4.3498\n",
            "Epoch 9/20\n",
            "50/50 [==============================] - 5s 102ms/step - loss: 0.2475 - lr: 0.0010 - smape_test: 1.3036 - mape_test: 4.3873\n",
            "Epoch 10/20\n",
            "50/50 [==============================] - 5s 102ms/step - loss: 0.2412 - lr: 0.0010 - smape_test: 1.3640 - mape_test: 3.1441\n",
            "Epoch 11/20\n",
            "50/50 [==============================] - 5s 102ms/step - loss: 0.2343 - lr: 0.0010 - smape_test: 1.2946 - mape_test: 4.5316\n",
            "Epoch 12/20\n",
            "50/50 [==============================] - 5s 102ms/step - loss: 0.2434 - lr: 0.0010 - smape_test: 1.3129 - mape_test: 3.0504\n",
            "Epoch 13/20\n",
            "50/50 [==============================] - 5s 102ms/step - loss: 0.2401 - lr: 0.0010 - smape_test: 1.2998 - mape_test: 4.2022\n",
            "Epoch 14/20\n",
            "50/50 [==============================] - 5s 101ms/step - loss: 0.2364 - lr: 0.0010 - smape_test: 1.2671 - mape_test: 4.5629\n",
            "Epoch 15/20\n",
            "50/50 [==============================] - 5s 102ms/step - loss: 0.2299 - lr: 5.0000e-04 - smape_test: 1.2980 - mape_test: 3.7384\n",
            "Epoch 16/20\n",
            "50/50 [==============================] - 5s 102ms/step - loss: 0.2254 - lr: 5.0000e-04 - smape_test: 1.2852 - mape_test: 3.9902\n",
            "Epoch 17/20\n",
            "50/50 [==============================] - 5s 102ms/step - loss: 0.2251 - lr: 2.5000e-04 - smape_test: 1.2657 - mape_test: 4.0949\n",
            "Epoch 18/20\n",
            "50/50 [==============================] - 5s 102ms/step - loss: 0.2193 - lr: 2.5000e-04 - smape_test: 1.2660 - mape_test: 4.2068\n",
            "Epoch 19/20\n",
            "50/50 [==============================] - 5s 102ms/step - loss: 0.2190 - lr: 1.2500e-04 - smape_test: 1.2771 - mape_test: 4.3038\n",
            "Epoch 20/20\n",
            "50/50 [==============================] - 5s 102ms/step - loss: 0.2158 - lr: 1.2500e-04 - smape_test: 1.2604 - mape_test: 3.9125\n",
            "Fitting model 2 out of 2, repeat=0;steps_per_epoch=50;block_layers=3;loss=pmape;pinball_tau=0.35;ts_sampling=ts_weight\n",
            "Epoch 1/20\n",
            "50/50 [==============================] - 6s 105ms/step - loss: 1.2560 - lr: 0.0010 - smape_test: 1.4569 - mape_test: 3.5664\n",
            "Epoch 2/20\n",
            "50/50 [==============================] - 5s 101ms/step - loss: 1.1970 - lr: 0.0010 - smape_test: 1.4607 - mape_test: 1.9418\n",
            "Epoch 3/20\n",
            "50/50 [==============================] - 5s 102ms/step - loss: 0.7919 - lr: 0.0010 - smape_test: 1.4064 - mape_test: 1.0889\n",
            "Epoch 4/20\n",
            "50/50 [==============================] - 5s 102ms/step - loss: 0.6780 - lr: 0.0010 - smape_test: 1.4788 - mape_test: 1.1096\n",
            "Epoch 5/20\n",
            "50/50 [==============================] - 5s 101ms/step - loss: 0.5956 - lr: 0.0010 - smape_test: 1.5330 - mape_test: 1.2086\n",
            "Epoch 6/20\n",
            "50/50 [==============================] - 5s 102ms/step - loss: 0.5696 - lr: 0.0010 - smape_test: 1.4518 - mape_test: 0.9712\n",
            "Epoch 7/20\n",
            "50/50 [==============================] - 5s 101ms/step - loss: 0.6132 - lr: 0.0010 - smape_test: 1.5486 - mape_test: 1.2241\n",
            "Epoch 8/20\n",
            "50/50 [==============================] - 5s 101ms/step - loss: 0.6442 - lr: 0.0010 - smape_test: 1.5938 - mape_test: 1.6987\n",
            "Epoch 9/20\n",
            "50/50 [==============================] - 5s 102ms/step - loss: 0.7725 - lr: 0.0010 - smape_test: 1.5606 - mape_test: 0.9725\n",
            "Epoch 10/20\n",
            "50/50 [==============================] - 5s 102ms/step - loss: 0.5102 - lr: 0.0010 - smape_test: 1.4330 - mape_test: 1.2641\n",
            "Epoch 11/20\n",
            "50/50 [==============================] - 5s 102ms/step - loss: 0.5365 - lr: 0.0010 - smape_test: 1.6647 - mape_test: 1.0697\n",
            "Epoch 12/20\n",
            "50/50 [==============================] - 5s 102ms/step - loss: 0.7505 - lr: 0.0010 - smape_test: 1.3782 - mape_test: 1.3088\n",
            "Epoch 13/20\n",
            "50/50 [==============================] - 5s 102ms/step - loss: 0.5473 - lr: 0.0010 - smape_test: 1.4824 - mape_test: 1.0939\n",
            "Epoch 14/20\n",
            "50/50 [==============================] - 5s 102ms/step - loss: 0.6616 - lr: 0.0010 - smape_test: 1.5053 - mape_test: 2.1751\n",
            "Epoch 15/20\n",
            "50/50 [==============================] - 5s 102ms/step - loss: 0.7751 - lr: 5.0000e-04 - smape_test: 1.6651 - mape_test: 1.1113\n",
            "Epoch 16/20\n",
            "50/50 [==============================] - 5s 102ms/step - loss: 0.5075 - lr: 5.0000e-04 - smape_test: 1.6806 - mape_test: 1.2333\n",
            "Epoch 17/20\n",
            "50/50 [==============================] - 5s 102ms/step - loss: 0.4795 - lr: 2.5000e-04 - smape_test: 1.6353 - mape_test: 1.1725\n",
            "Epoch 18/20\n",
            "50/50 [==============================] - 5s 102ms/step - loss: 0.4726 - lr: 2.5000e-04 - smape_test: 1.6072 - mape_test: 1.0739\n",
            "Epoch 19/20\n",
            "50/50 [==============================] - 5s 102ms/step - loss: 0.4642 - lr: 1.2500e-04 - smape_test: 1.6489 - mape_test: 1.0663\n",
            "Epoch 20/20\n",
            "50/50 [==============================] - 5s 102ms/step - loss: 0.4448 - lr: 1.2500e-04 - smape_test: 1.6099 - mape_test: 1.0342\n"
          ]
        }
      ]
    },
    {
      "cell_type": "code",
      "source": [
        "def get_forecasts(path, filt):\n",
        "    a = []\n",
        "    for f in tqdm(glob(os.path.join(WORKING_PATH, path, filt))):\n",
        "        df = np.load(f)\n",
        "        a.append(df)\n",
        "    return a\n",
        "\n",
        "\n",
        "def get_ensemble(forecasts):\n",
        "    return np.mean(np.stack(forecasts, axis=-1), axis=-1)\n",
        "\n",
        "\n",
        "def get_metrics(preds, labels):\n",
        "    metrics = {}\n",
        "    metrics[\"smape\"] = 100*smape(preds=preds, labels=labels).numpy()\n",
        "    metrics[\"mape\"] = 100*mape(preds=preds, labels=labels).numpy()\n",
        "    pe = 100*(preds-labels)/labels\n",
        "    metrics[\"pe_mean\"] = np.mean(pe)\n",
        "    metrics[\"pe_median\"] = np.median(pe)\n",
        "    return metrics\n",
        "\n",
        "\n",
        "def get_stats(samples=10, ensemble_size=64, test_dataset=None, config_filt=None, path=None):\n",
        "    files = glob(os.path.join(WORKING_PATH, path, filt))\n",
        "    all_repeats = set([int(f.split(os.sep)[-1].split(\";\")[0].split(\"=\")[-1]) for f in files])\n",
        "    preds = np.array(get_forecasts(path=path, filt=config_filt+\".npy\"))\n",
        "\n",
        "    metric_samples = []\n",
        "    ensemble_samples = []\n",
        "    for s in range(samples):\n",
        "        ensemble_repeats = np.random.choice(list(all_repeats), size=ensemble_size, replace=False)\n",
        "        ensemble = preds[ensemble_repeats].mean(axis=0)\n",
        "        metric_samples.append(get_metrics(preds=ensemble, labels=test_dataset.ts_raw))\n",
        "        ensemble_samples.append(ensemble)\n",
        "\n",
        "    return pd.DataFrame(metric_samples), ensemble_samples\n",
        "\n",
        "\n",
        "def save_ensemble_files(path, ensembles):\n",
        "    pathlib.Path(f\"{WORKING_PATH}/{path}\").mkdir(parents=True, exist_ok=True)\n",
        "    for i, e in enumerate(ensembles):\n",
        "        filename = os.path.join(path, f\"{i}.csv\")\n",
        "        df = pd.DataFrame(data=e, columns=[f\"V{i+1}\" for i in range(12)], index=[f\"P{i+1}\" for i in range(35)])\n",
        "        df.to_csv(filename)"
      ],
      "metadata": {
        "id": "xoSHuiEcmcnI"
      },
      "execution_count": 300,
      "outputs": []
    },
    {
      "cell_type": "code",
      "source": [
        "test_dataset.ts_raw[2]"
      ],
      "metadata": {
        "colab": {
          "base_uri": "https://localhost:8080/"
        },
        "id": "xEjNTtudkcDh",
        "outputId": "f9524843-b7e1-45c4-9713-65bca326f137"
      },
      "execution_count": 301,
      "outputs": [
        {
          "output_type": "execute_result",
          "data": {
            "text/plain": [
              "array([ 0.070502, -0.12555 ,  0.12043 ,  0.38095 ,  0.3142  ,  0.056836,\n",
              "       -0.29864 , -0.42217 , -0.082712,  0.15054 ,  0.052001,  0.      ],\n",
              "      dtype=float32)"
            ]
          },
          "metadata": {},
          "execution_count": 301
        }
      ]
    },
    {
      "cell_type": "code",
      "source": [
        "id = 3\n",
        "nsamples = 20\n",
        "\n",
        "MODEL_VERSION = \"TEST\"\n",
        "split=0\n",
        "path = f\"results/{MODEL_VERSION}_split{split}/\"\n",
        "filt = \"*repeat=*steps_per_epoch=50*block_layers=3*loss=pmape*pinball_tau=0.35;ts_sampling=ts_weight*\"\n",
        "\n",
        "forecasts = get_forecasts(path, filt)\n",
        "\n",
        "print(\"MAE:\", mae(preds=forecasts[0][id], labels=test_dataset.ts_raw[id]).numpy())\n",
        "print(\"RMSE:\", rmse(preds=forecasts[0][id], labels=test_dataset.ts_raw[id]).numpy())\n",
        "\n",
        "plt.plot(train_dataset.ts_raw[id][-nsamples:])\n",
        "# plt.plot(forecasts[0][id], label='forecasts');\n",
        "# plt.plot(test_dataset.ts_raw[id], label='values');\n",
        "plt.plot(np.concatenate([np.nan*np.zeros((nsamples,)), test_dataset.ts_raw[id]]), label='values')\n",
        "plt.plot(np.concatenate([np.nan*np.zeros((nsamples,)), forecasts[0][id]]), label='forecasts')\n",
        "plt.legend()"
      ],
      "metadata": {
        "colab": {
          "base_uri": "https://localhost:8080/",
          "height": 352,
          "referenced_widgets": [
            "ffdd426591634eebb9f389645a755cd2",
            "d489a72e5105467881b7821a6f61b229",
            "543f23a239a4436cb48ae48c51994033",
            "84d0540348334d789af1251ddc15bee2",
            "9f6e1f0618904ed5a9cab4aa6a1c0e86",
            "3526256edf3c418a847201550518ff78",
            "bb44f0c18d1747f29ec948690d145f51",
            "f80fc30e91d345e9a3886527f1f904ee",
            "2ced6d9ef1c34ff0a57ccca68cf0a5ac",
            "98da95433726450d9f4cfd2a013597f6",
            "74b4c611e35e4c4093a60c883fc39b09"
          ]
        },
        "id": "QPPHVrOSfUdE",
        "outputId": "38aedf1d-4104-47c2-8877-9f6f46d7830d"
      },
      "execution_count": 332,
      "outputs": [
        {
          "output_type": "display_data",
          "data": {
            "text/plain": [
              "  0%|          | 0/2 [00:00<?, ?it/s]"
            ],
            "application/vnd.jupyter.widget-view+json": {
              "version_major": 2,
              "version_minor": 0,
              "model_id": "ffdd426591634eebb9f389645a755cd2"
            }
          },
          "metadata": {}
        },
        {
          "output_type": "stream",
          "name": "stdout",
          "text": [
            "MAE: 0.069098614\n",
            "RMSE: 0.09372296\n"
          ]
        },
        {
          "output_type": "execute_result",
          "data": {
            "text/plain": [
              "<matplotlib.legend.Legend at 0x7f73cb778890>"
            ]
          },
          "metadata": {},
          "execution_count": 332
        },
        {
          "output_type": "display_data",
          "data": {
            "text/plain": [
              "<Figure size 432x288 with 1 Axes>"
            ],
            "image/png": "[encoded data removed]"
          },
          "metadata": {
            "needs_background": "light"
          }
        }
      ]
    },
    {
      "cell_type": "code",
      "source": [
        "id = 3\n",
        "nsamples = 20\n",
        "\n",
        "MODEL_VERSION = \"TEST\"\n",
        "split=0\n",
        "path = f\"results/{MODEL_VERSION}_split{split}/\"\n",
        "filt = \"*repeat=*steps_per_epoch=50*block_layers=3*loss=pinball*pinball_tau=0.35;ts_sampling=ts_weight*\"\n",
        "\n",
        "forecasts = get_forecasts(path, filt)\n",
        "\n",
        "print(\"MAE:\", mae(preds=forecasts[0][id], labels=test_dataset.ts_raw[id]).numpy())\n",
        "print(\"RMSE:\", rmse(preds=forecasts[0][id], labels=test_dataset.ts_raw[id]).numpy())\n",
        "\n",
        "plt.plot(train_dataset.ts_raw[id][-nsamples:])\n",
        "# plt.plot(forecasts[0][id], label='forecasts');\n",
        "# plt.plot(test_dataset.ts_raw[id], label='values');\n",
        "plt.plot(np.concatenate([np.nan*np.zeros((nsamples,)), test_dataset.ts_raw[id]]), label='values')\n",
        "plt.plot(np.concatenate([np.nan*np.zeros((nsamples,)), forecasts[0][id]]), label='forecasts')\n",
        "plt.legend()"
      ],
      "metadata": {
        "colab": {
          "base_uri": "https://localhost:8080/",
          "height": 352,
          "referenced_widgets": [
            "fc9354ee39ae4c2484c827b80819dc81",
            "0bc396be2b8746b397be87a6d40f214e",
            "59e464a6a6e44f819a5c2ddf783f82f8",
            "ecd8e9dcdeb04ab5adb0c53ce8392046",
            "256aa071b9ad4240886ab3fbd968080f",
            "80a44fff53114e4b8e5ac69f29436d66",
            "912ac1743f2c436b8ebaa1f8b36ffda5",
            "d4ae34ab6ba547f48e9a962aacb6f51f",
            "fa51e59099494c5a8682d0f2ee92c0a6",
            "f11644bdd31f4e28bf898a3a6ea4a4ca",
            "f9707bd2041d487fb34c3c06d52ffb48"
          ]
        },
        "id": "ujuzxvF6w7CX",
        "outputId": "c8e2caae-9e21-424e-f5c4-ed88300bff4a"
      },
      "execution_count": 333,
      "outputs": [
        {
          "output_type": "display_data",
          "data": {
            "text/plain": [
              "  0%|          | 0/2 [00:00<?, ?it/s]"
            ],
            "application/vnd.jupyter.widget-view+json": {
              "version_major": 2,
              "version_minor": 0,
              "model_id": "fc9354ee39ae4c2484c827b80819dc81"
            }
          },
          "metadata": {}
        },
        {
          "output_type": "stream",
          "name": "stdout",
          "text": [
            "MAE: 0.09817051\n",
            "RMSE: 0.12741986\n"
          ]
        },
        {
          "output_type": "execute_result",
          "data": {
            "text/plain": [
              "<matplotlib.legend.Legend at 0x7f73cb70f950>"
            ]
          },
          "metadata": {},
          "execution_count": 333
        },
        {
          "output_type": "display_data",
          "data": {
            "text/plain": [
              "<Figure size 432x288 with 1 Axes>"
            ],
            "image/png": "[encoded data removed]"
          },
          "metadata": {
            "needs_background": "light"
          }
        }
      ]
    },
    {
      "cell_type": "code",
      "source": [
        "MODEL_VERSION = \"TEST\"\n",
        "split=0\n",
        "path = f\"results/{MODEL_VERSION}_split{split}/\"\n",
        "filt = \"*repeat=*steps_per_epoch=50*block_layers=3*loss=pmape*pinball_tau=0.35;ts_sampling=ts_weight*\"\n",
        "\n",
        "forecasts = get_forecasts(path, filt)\n",
        "a = get_ensemble(forecasts)\n",
        "\n",
        "print(\"SMAPE:\", 100*smape(preds=a, labels=test_dataset.ts_raw).numpy())\n",
        "print(\"MAPE:\", 100*mape(preds=a, labels=test_dataset.ts_raw).numpy())\n",
        "print(\"MAE:\", mae(preds=a, labels=test_dataset.ts_raw).numpy())\n",
        "print(\"RMSE:\", rmse(preds=a, labels=test_dataset.ts_raw).numpy())"
      ],
      "metadata": {
        "colab": {
          "base_uri": "https://localhost:8080/",
          "height": 122,
          "referenced_widgets": [
            "556e82da29c34906ac8bb521542083a9",
            "9d50007d13df4665a00de86225b6af98",
            "079affede4094cd788c6e2d8c20db3ce",
            "0ee1bbeae0334deca9f23cbbb3c8ce13",
            "09f4e1190a0f479e96db7e6ced30757b",
            "53d52bda546f45c68074f6c7c024c883",
            "56165993880045b09b366fb4f91b7678",
            "035aa1873fb04b8299cdf489d1a3f785",
            "a9998c5548c84716ad12b6deb56ec460",
            "b3fb5025ce6e451ba08ba4122257e366",
            "8723011c92244b98993e2c38af0c409d"
          ]
        },
        "id": "F0BaYc1imtGQ",
        "outputId": "0485cc26-90e4-49b2-ef8f-54fba99708cc"
      },
      "execution_count": 327,
      "outputs": [
        {
          "output_type": "display_data",
          "data": {
            "text/plain": [
              "  0%|          | 0/2 [00:00<?, ?it/s]"
            ],
            "application/vnd.jupyter.widget-view+json": {
              "version_major": 2,
              "version_minor": 0,
              "model_id": "556e82da29c34906ac8bb521542083a9"
            }
          },
          "metadata": {}
        },
        {
          "output_type": "stream",
          "name": "stdout",
          "text": [
            "SMAPE: 158.14882516860962\n",
            "MAPE: 100.45360326766968\n",
            "MAE: 0.09807831\n",
            "RMSE: 0.14503783\n"
          ]
        }
      ]
    },
    {
      "cell_type": "code",
      "source": [
        "MODEL_VERSION = \"TEST\"\n",
        "split=1\n",
        "path = f\"results/{MODEL_VERSION}_split{split}/\"\n",
        "filt = \"*repeat=*steps_per_epoch=50*block_layers=3*loss=pinball*pinball_tau=0.35;ts_sampling=ts_weight*\"\n",
        "\n",
        "forecasts = get_forecasts(path, filt)\n",
        "a = get_ensemble(forecasts)\n",
        "\n",
        "print(\"SMAPE:\", 100*smape(preds=a, labels=test_dataset.ts_raw).numpy())\n",
        "print(\"MAPE:\", 100*mape(preds=a, labels=test_dataset.ts_raw).numpy())\n",
        "print(\"MAE:\", mae(preds=a, labels=test_dataset.ts_raw).numpy())\n",
        "print(\"RMSE:\", rmse(preds=a, labels=test_dataset.ts_raw).numpy())"
      ],
      "metadata": {
        "colab": {
          "base_uri": "https://localhost:8080/",
          "height": 122,
          "referenced_widgets": [
            "0ae75bbd31ee481e948ddb841da10c77",
            "4d735c91b3014c54b65f1d4ce54c52bb",
            "51fc488a3e7841f48289b1ac1202efc8",
            "0f0a6da7943a4870b108775aaf66f062",
            "53da3a096337495faac8c2c5f0eb8dbf",
            "7cb817d7328342ec8446e6e917d1827f",
            "19ce1a77dc074e5a80d92e5f9983b116",
            "8bc10b64b0ab49d7aab8c908635d4dde",
            "491058b4e5a4454b9b00e044d4637947",
            "eda29c365f204141a7712fd69078bc65",
            "9c2d1f8dd3444ad4bb99169980ce4104"
          ]
        },
        "id": "ABdCiLeFz7Cv",
        "outputId": "13359fbb-62b1-41af-bbe4-eeeed29b0c1a"
      },
      "execution_count": 310,
      "outputs": [
        {
          "output_type": "display_data",
          "data": {
            "text/plain": [
              "  0%|          | 0/1 [00:00<?, ?it/s]"
            ],
            "application/vnd.jupyter.widget-view+json": {
              "version_major": 2,
              "version_minor": 0,
              "model_id": "0ae75bbd31ee481e948ddb841da10c77"
            }
          },
          "metadata": {}
        },
        {
          "output_type": "stream",
          "name": "stdout",
          "text": [
            "SMAPE: 126.04464292526245\n",
            "MAPE: 391.25449657440186\n",
            "MAE: 0.26799193\n",
            "RMSE: 0.42617032\n"
          ]
        }
      ]
    },
    {
      "cell_type": "code",
      "source": [
        "a[0]"
      ],
      "metadata": {
        "colab": {
          "base_uri": "https://localhost:8080/"
        },
        "id": "LWwRPdxN0T6i",
        "outputId": "299378e4-6e01-41c1-c13d-84a30adc5c71"
      },
      "execution_count": 311,
      "outputs": [
        {
          "output_type": "execute_result",
          "data": {
            "text/plain": [
              "array([-0.53964466, -0.47162753, -0.4494158 , -0.4036136 , -0.36169043,\n",
              "       -0.30569103, -0.30133328, -0.21952805, -0.19918755, -0.23855759,\n",
              "       -0.273859  , -0.26923424], dtype=float32)"
            ]
          },
          "metadata": {},
          "execution_count": 311
        }
      ]
    },
    {
      "cell_type": "code",
      "source": [
        "test_dataset.ts_raw[0]"
      ],
      "metadata": {
        "colab": {
          "base_uri": "https://localhost:8080/"
        },
        "id": "YQ7MWccy0VAT",
        "outputId": "40a64cbf-ddfa-4714-da37-bda5ac1c13a0"
      },
      "execution_count": 312,
      "outputs": [
        {
          "output_type": "execute_result",
          "data": {
            "text/plain": [
              "array([-0.47166 , -0.28346 , -0.21107 , -0.10588 , -0.049224,  0.10534 ,\n",
              "        0.23358 ,  0.14283 ,  0.03069 ,  0.023102,  0.005563,  0.      ],\n",
              "      dtype=float32)"
            ]
          },
          "metadata": {},
          "execution_count": 312
        }
      ]
    },
    {
      "cell_type": "code",
      "source": [
        "plt.plot(a[0])\n",
        "plt.plot(test_dataset.ts_raw[0])"
      ],
      "metadata": {
        "colab": {
          "base_uri": "https://localhost:8080/",
          "height": 283
        },
        "id": "y_b9ZHln0Xjr",
        "outputId": "a7376bb4-1535-4330-b3d5-5cbf2cda431f"
      },
      "execution_count": 313,
      "outputs": [
        {
          "output_type": "execute_result",
          "data": {
            "text/plain": [
              "[<matplotlib.lines.Line2D at 0x7f73cc0b7350>]"
            ]
          },
          "metadata": {},
          "execution_count": 313
        },
        {
          "output_type": "display_data",
          "data": {
            "text/plain": [
              "<Figure size 432x288 with 1 Axes>"
            ],
            "image/png": "[encoded data removed]"
          },
          "metadata": {
            "needs_background": "light"
          }
        }
      ]
    },
    {
      "cell_type": "code",
      "source": [
        "# ensemble_size = 64\n",
        "\n",
        "# pinball_filt = \"*steps_per_epoch=50*block_layers=3*loss=pinball*pinball_tau=0.35;ts_sampling=ts_weight*\"\n",
        "# metrics_pinball, ensembles_pinball = get_stats(samples=100, ensemble_size=ensemble_size, \n",
        "#                                                path=f\"results/{MODEL_VERSION}_split{split}/\", \n",
        "#                                                test_dataset=test_dataset,\n",
        "#                                                config_filt=pinball_filt)\n",
        "\n",
        "# print(f\"PINBALL loss bootstrap stats, ensemble of {ensemble_size} sampled without replacement from 1024 models\")\n",
        "# print(metrics_pinball.describe(percentiles=[0.05, 0.25, 0.5, 0.75, 0.95]))\n",
        "\n",
        "# # Save ensemble files\n",
        "# path = f\"results/{MODEL_VERSION}_split{hyperparams.split}/ensemble_{pinball_filt}\"\n",
        "# save_ensemble_files(path=path, ensembles=ensembles_pinball)\n"
      ],
      "metadata": {
        "id": "LbtTtTHHMcIT"
      },
      "execution_count": 118,
      "outputs": []
    },
    {
      "cell_type": "code",
      "source": [
        "# pmape_filt = \"*steps_per_epoch=50*block_layers=3*loss=pmape*pinball_tau=0.35;ts_sampling=ts_weight*\"\n",
        "# metrics_pmape, ensembles_pmape = get_stats(samples=100, ensemble_size=ensemble_size, \n",
        "#                                            path=f\"results/{MODEL_VERSION}_split{split}/\", \n",
        "#                                            test_dataset=test_dataset,\n",
        "#                                            config_filt=pmape_filt)\n",
        "\n",
        "# print(f\"PMAPE loss bootstrap stats, ensemble of {ensemble_size} sampled without replacement from 1024 models\")\n",
        "# print(metrics_pmape.describe(percentiles=[0.05, 0.25, 0.5, 0.75, 0.95]))\n",
        "\n",
        "# # Save ensemble files\n",
        "# path = f\"results/{MODEL_VERSION}_split{hyperparams.split}/ensemble_{pmape_filt}\"\n",
        "# save_ensemble_files(path=path, ensembles=ensembles_pmape)"
      ],
      "metadata": {
        "id": "9TabkrC1NZgn"
      },
      "execution_count": 119,
      "outputs": []
    },
    {
      "cell_type": "code",
      "source": [
        ""
      ],
      "metadata": {
        "id": "dGdakJD4Na2N"
      },
      "execution_count": null,
      "outputs": []
    }
  ]
}