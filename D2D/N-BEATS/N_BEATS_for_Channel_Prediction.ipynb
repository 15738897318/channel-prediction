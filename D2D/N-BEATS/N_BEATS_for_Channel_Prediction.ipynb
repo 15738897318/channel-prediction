{
  "nbformat": 4,
  "nbformat_minor": 0,
  "metadata": {
    "colab": {
      "name": "N-BEATS for Channel Prediction.ipynb",
      "provenance": []
    },
    "kernelspec": {
      "name": "python3",
      "display_name": "Python 3"
    },
    "language_info": {
      "name": "python"
    },
    "accelerator": "GPU",
    "gpuClass": "standard"
  },
  "cells": [
    {
      "cell_type": "code",
      "execution_count": 1,
      "metadata": {
        "id": "LWG2rhPCpI-a"
      },
      "outputs": [],
      "source": [
        "%load_ext autoreload\n",
        "%autoreload 2"
      ]
    },
    {
      "cell_type": "code",
      "source": [
        "import os\n",
        "import sys\n",
        "\n",
        "from google.colab import drive\n",
        "drive.mount('/content/drive')\n",
        "PROJECT_ROOT = '/content/drive/My Drive/d2d_channelprediction'\n",
        "%mkdir '/content/drive/My Drive/d2d_channelprediction' -p\n",
        "%cd '/content/drive/My Drive/d2d_channelprediction'\n",
        "DATASETS_PATH = \"data\"\n",
        "WORKING_PATH = \".\"\n",
        "%mkdir $DATASETS_PATH -p\n",
        "\n",
        "LOGDIR = f\"{WORKING_PATH}/logs\"\n",
        "MODEL_VERSION = 'TEST'"
      ],
      "metadata": {
        "colab": {
          "base_uri": "https://localhost:8080/"
        },
        "id": "17WKsbqHpPN1",
        "outputId": "7cf9d8a2-0cb1-47ef-feaf-7778fa61116d"
      },
      "execution_count": 8,
      "outputs": [
        {
          "output_type": "stream",
          "name": "stdout",
          "text": [
            "Drive already mounted at /content/drive; to attempt to forcibly remount, call drive.mount(\"/content/drive\", force_remount=True).\n",
            "/content/drive/My Drive/d2d_channelprediction\n"
          ]
        }
      ]
    },
    {
      "cell_type": "code",
      "source": [
        "import numpy as np\n",
        "import pandas as pd\n",
        "import tensorflow as tf\n",
        "from typing import Dict, NamedTuple, Union\n",
        "from tqdm.notebook import tqdm\n",
        "import logging\n",
        "from matplotlib import pyplot as plt\n",
        "import time\n",
        "from itertools import product\n",
        "import gc\n",
        "import pathlib\n",
        "from glob import glob\n",
        "\n",
        "from dateutil.relativedelta import relativedelta"
      ],
      "metadata": {
        "id": "9uEGTaMIptWh"
      },
      "execution_count": 6,
      "outputs": []
    },
    {
      "cell_type": "code",
      "source": [
        "class DataLoader:\n",
        "  def __init__(self, path=\"data/\", split='train'):\n",
        "    self.path = path\n",
        "    self.split = split\n",
        "    ts_raw = pd.read_csv(os.path.join(path,f'{split}_d2d.csv')).iloc[:,2:].values.astype(np.float32)\n",
        "    self.ts_raw = []\n",
        "    \n",
        "    for ts in ts_raw:\n",
        "      self.ts_raw.append(ts[~np.isnan(ts)])\n",
        "\n",
        "  def get_batch(self, batch_size=64, win_len=14*2, horizon=12, ts_sampling='uniform'):\n",
        "  \n",
        "    target_ts = np.zeros((batch_size, horizon), dtype=np.float32)\n",
        "    history_ts = np.zeros((batch_size, win_len), dtype=np.float32)\n",
        "\n",
        "    if ts_sampling == \"uniform\":\n",
        "        ts_idxs = np.random.choice(np.arange(len(self.ts_raw)), size=batch_size, replace=True)\n",
        "    elif ts_sampling == \"ts_weight\":\n",
        "        ts_idxs = np.random.choice(np.arange(len(self.ts_raw)), size=batch_size, replace=True, p=self.ts_weight)\n",
        "        \n",
        "    for i, ts_id in enumerate(ts_idxs):\n",
        "        ts = self.ts_raw[ts_id]\n",
        "        sampling_point = np.random.choice(np.arange(win_len, len(ts)-horizon+1), size=1, replace=False)[0]\n",
        "        history_ts[i,:] = ts[sampling_point-win_len:sampling_point]\n",
        "        target_ts[i,:] = ts[sampling_point:sampling_point+horizon]\n",
        "\n",
        "    batch = {\"history\": history_ts, \"target\": target_ts}\n",
        "    return batch\n",
        "\n",
        "  def get_sequential_batch(self, win_len=14*2):\n",
        "    history_ts = np.zeros((len(self.ts_raw), win_len), dtype=np.float32)\n",
        "    for i, ts in enumerate(self.ts_raw):\n",
        "        history_ts[i,:] = ts[-win_len:]\n",
        "    return {\"history\": history_ts}\n",
        "\n",
        "train_dataset = DataLoader(path='data', split='train')\n",
        "test_dataset = DataLoader(path='data', split='test')"
      ],
      "metadata": {
        "id": "Ov4MYJfWp9BB"
      },
      "execution_count": 168,
      "outputs": []
    },
    {
      "cell_type": "code",
      "source": [
        "test_dataset.ts_raw[0]"
      ],
      "metadata": {
        "colab": {
          "base_uri": "https://localhost:8080/"
        },
        "id": "yKrohoItHJyu",
        "outputId": "74058669-8325-4a4f-c0e6-5068f4eaf9c2"
      },
      "execution_count": 171,
      "outputs": [
        {
          "output_type": "execute_result",
          "data": {
            "text/plain": [
              "array([-0.28346 , -0.21107 , -0.10588 , -0.049224,  0.10534 ,  0.23358 ,\n",
              "        0.14283 ,  0.03069 ,  0.023102,  0.005563,  0.      ],\n",
              "      dtype=float32)"
            ]
          },
          "metadata": {},
          "execution_count": 171
        }
      ]
    },
    {
      "cell_type": "code",
      "source": [
        "win_len=12*2\n",
        "batch = train_dataset.get_batch(win_len=win_len, batch_size = 64)\n",
        "\n",
        "plt.plot(batch[\"history\"][0])\n",
        "plt.plot(np.concatenate([np.nan*np.zeros((win_len,)), batch[\"target\"][0]]))"
      ],
      "metadata": {
        "colab": {
          "base_uri": "https://localhost:8080/",
          "height": 283
        },
        "id": "urLGszpbFoq8",
        "outputId": "a2932330-c41e-4024-ab2f-bbe3595f3d60"
      },
      "execution_count": 178,
      "outputs": [
        {
          "output_type": "execute_result",
          "data": {
            "text/plain": [
              "[<matplotlib.lines.Line2D at 0x7f1ab6baa5d0>]"
            ]
          },
          "metadata": {},
          "execution_count": 178
        },
        {
          "output_type": "display_data",
          "data": {
            "text/plain": [
              "<Figure size 432x288 with 1 Axes>"
            ],
            "image/png": "[encoded data removed]"
          },
          "metadata": {
            "needs_background": "light"
          }
        }
      ]
    },
    {
      "cell_type": "code",
      "source": [
        "train_dataset.get_Bbat"
      ],
      "metadata": {
        "colab": {
          "base_uri": "https://localhost:8080/"
        },
        "id": "DszIXP70FQCI",
        "outputId": "62ff26bb-8ca7-4058-ab01-366e296809a4"
      },
      "execution_count": 112,
      "outputs": [
        {
          "output_type": "execute_result",
          "data": {
            "text/plain": [
              "[array([ 0.0000e+00, -6.7168e-06,  3.8843e-02, ...,  2.3102e-02,\n",
              "         5.5630e-03,  0.0000e+00], dtype=float32),\n",
              " array([ 0.        , -0.013619  ,  0.00043378, ...,  0.0037947 ,\n",
              "         0.024482  ,  0.        ], dtype=float32),\n",
              " array([ 0.      , -0.043765, -0.013475, ...,  0.15054 ,  0.052001,\n",
              "         0.      ], dtype=float32),\n",
              " array([ 0.      ,  0.024803,  0.012962, ..., -0.74612 , -0.67043 ,\n",
              "        -0.63923 ], dtype=float32)]"
            ]
          },
          "metadata": {},
          "execution_count": 112
        }
      ]
    },
    {
      "cell_type": "code",
      "source": [
        "train_dataset.ts_raw"
      ],
      "metadata": {
        "colab": {
          "base_uri": "https://localhost:8080/"
        },
        "id": "UzY10zkIFVvq",
        "outputId": "e3d9ddab-b216-4d1b-f8e7-78e1066685fa"
      },
      "execution_count": 115,
      "outputs": [
        {
          "output_type": "execute_result",
          "data": {
            "text/plain": [
              "[array([-6.7168e-06,  3.8843e-02, -1.7919e-02, ...,  2.3102e-02,\n",
              "         5.5630e-03,  0.0000e+00], dtype=float32),\n",
              " array([-0.013619  ,  0.00043378, -0.016572  , ...,  0.0037947 ,\n",
              "         0.024482  ,  0.        ], dtype=float32),\n",
              " array([-0.043765, -0.013475, -0.074315, ...,  0.15054 ,  0.052001,\n",
              "         0.      ], dtype=float32),\n",
              " array([ 0.024803 ,  0.012962 ,  0.0018545, ..., -0.74612  , -0.67043  ,\n",
              "        -0.63923  ], dtype=float32)]"
            ]
          },
          "metadata": {},
          "execution_count": 115
        }
      ]
    },
    {
      "cell_type": "code",
      "source": [
        ""
      ],
      "metadata": {
        "id": "YopBIDYqFke0"
      },
      "execution_count": null,
      "outputs": []
    }
  ]
}